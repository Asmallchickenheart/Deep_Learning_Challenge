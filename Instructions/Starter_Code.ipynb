{
 "cells": [
  {
   "cell_type": "markdown",
   "metadata": {},
   "source": [
    "## Preprocessing"
   ]
  },
  {
   "cell_type": "code",
   "execution_count": 29,
   "metadata": {},
   "outputs": [
    {
     "data": {
      "text/plain": "        EIN                                      NAME APPLICATION_TYPE  \\\n0  10520599              BLUE KNIGHTS MOTORCYCLE CLUB              T10   \n1  10531628    AMERICAN CHESAPEAKE CLUB CHARITABLE TR               T3   \n2  10547893        ST CLOUD PROFESSIONAL FIREFIGHTERS               T5   \n3  10553066            SOUTHSIDE ATHLETIC ASSOCIATION               T3   \n4  10556103  GENETIC RESEARCH INSTITUTE OF THE DESERT               T3   \n\n        AFFILIATION CLASSIFICATION      USE_CASE  ORGANIZATION  STATUS  \\\n0       Independent          C1000    ProductDev   Association       1   \n1       Independent          C2000  Preservation  Co-operative       1   \n2  CompanySponsored          C3000    ProductDev   Association       1   \n3  CompanySponsored          C2000  Preservation         Trust       1   \n4       Independent          C1000     Heathcare         Trust       1   \n\n      INCOME_AMT SPECIAL_CONSIDERATIONS  ASK_AMT  IS_SUCCESSFUL  \n0              0                      N     5000              1  \n1         1-9999                      N   108590              1  \n2              0                      N     5000              0  \n3    10000-24999                      N     6692              1  \n4  100000-499999                      N   142590              1  ",
      "text/html": "<div>\n<style scoped>\n    .dataframe tbody tr th:only-of-type {\n        vertical-align: middle;\n    }\n\n    .dataframe tbody tr th {\n        vertical-align: top;\n    }\n\n    .dataframe thead th {\n        text-align: right;\n    }\n</style>\n<table border=\"1\" class=\"dataframe\">\n  <thead>\n    <tr style=\"text-align: right;\">\n      <th></th>\n      <th>EIN</th>\n      <th>NAME</th>\n      <th>APPLICATION_TYPE</th>\n      <th>AFFILIATION</th>\n      <th>CLASSIFICATION</th>\n      <th>USE_CASE</th>\n      <th>ORGANIZATION</th>\n      <th>STATUS</th>\n      <th>INCOME_AMT</th>\n      <th>SPECIAL_CONSIDERATIONS</th>\n      <th>ASK_AMT</th>\n      <th>IS_SUCCESSFUL</th>\n    </tr>\n  </thead>\n  <tbody>\n    <tr>\n      <th>0</th>\n      <td>10520599</td>\n      <td>BLUE KNIGHTS MOTORCYCLE CLUB</td>\n      <td>T10</td>\n      <td>Independent</td>\n      <td>C1000</td>\n      <td>ProductDev</td>\n      <td>Association</td>\n      <td>1</td>\n      <td>0</td>\n      <td>N</td>\n      <td>5000</td>\n      <td>1</td>\n    </tr>\n    <tr>\n      <th>1</th>\n      <td>10531628</td>\n      <td>AMERICAN CHESAPEAKE CLUB CHARITABLE TR</td>\n      <td>T3</td>\n      <td>Independent</td>\n      <td>C2000</td>\n      <td>Preservation</td>\n      <td>Co-operative</td>\n      <td>1</td>\n      <td>1-9999</td>\n      <td>N</td>\n      <td>108590</td>\n      <td>1</td>\n    </tr>\n    <tr>\n      <th>2</th>\n      <td>10547893</td>\n      <td>ST CLOUD PROFESSIONAL FIREFIGHTERS</td>\n      <td>T5</td>\n      <td>CompanySponsored</td>\n      <td>C3000</td>\n      <td>ProductDev</td>\n      <td>Association</td>\n      <td>1</td>\n      <td>0</td>\n      <td>N</td>\n      <td>5000</td>\n      <td>0</td>\n    </tr>\n    <tr>\n      <th>3</th>\n      <td>10553066</td>\n      <td>SOUTHSIDE ATHLETIC ASSOCIATION</td>\n      <td>T3</td>\n      <td>CompanySponsored</td>\n      <td>C2000</td>\n      <td>Preservation</td>\n      <td>Trust</td>\n      <td>1</td>\n      <td>10000-24999</td>\n      <td>N</td>\n      <td>6692</td>\n      <td>1</td>\n    </tr>\n    <tr>\n      <th>4</th>\n      <td>10556103</td>\n      <td>GENETIC RESEARCH INSTITUTE OF THE DESERT</td>\n      <td>T3</td>\n      <td>Independent</td>\n      <td>C1000</td>\n      <td>Heathcare</td>\n      <td>Trust</td>\n      <td>1</td>\n      <td>100000-499999</td>\n      <td>N</td>\n      <td>142590</td>\n      <td>1</td>\n    </tr>\n  </tbody>\n</table>\n</div>"
     },
     "execution_count": 29,
     "metadata": {},
     "output_type": "execute_result"
    }
   ],
   "source": [
    "# Import our dependencies\n",
    "from sklearn.model_selection import train_test_split\n",
    "from sklearn.preprocessing import StandardScaler\n",
    "import pandas as pd\n",
    "import tensorflow as tf\n",
    "\n",
    "#  Import and read the charity_data.csv.\n",
    "import pandas as pd \n",
    "application_df = pd.read_csv(\"../Resources/charity_data.csv\")\n",
    "application_df.head()"
   ]
  },
  {
   "cell_type": "code",
   "execution_count": 30,
   "metadata": {},
   "outputs": [
    {
     "data": {
      "text/plain": "      APPLICATION_TYPE       AFFILIATION CLASSIFICATION      USE_CASE  \\\n0                  T10       Independent          C1000    ProductDev   \n1                   T3       Independent          C2000  Preservation   \n2                   T5  CompanySponsored          C3000    ProductDev   \n3                   T3  CompanySponsored          C2000  Preservation   \n4                   T3       Independent          C1000     Heathcare   \n...                ...               ...            ...           ...   \n34294               T4       Independent          C1000    ProductDev   \n34295               T4  CompanySponsored          C3000    ProductDev   \n34296               T3  CompanySponsored          C2000  Preservation   \n34297               T5       Independent          C3000    ProductDev   \n34298               T3       Independent          C1000  Preservation   \n\n       ORGANIZATION  STATUS     INCOME_AMT SPECIAL_CONSIDERATIONS   ASK_AMT  \\\n0       Association       1              0                      N      5000   \n1      Co-operative       1         1-9999                      N    108590   \n2       Association       1              0                      N      5000   \n3             Trust       1    10000-24999                      N      6692   \n4             Trust       1  100000-499999                      N    142590   \n...             ...     ...            ...                    ...       ...   \n34294   Association       1              0                      N      5000   \n34295   Association       1              0                      N      5000   \n34296   Association       1              0                      N      5000   \n34297   Association       1              0                      N      5000   \n34298  Co-operative       1          1M-5M                      N  36500179   \n\n       IS_SUCCESSFUL  \n0                  1  \n1                  1  \n2                  0  \n3                  1  \n4                  1  \n...              ...  \n34294              0  \n34295              0  \n34296              0  \n34297              1  \n34298              0  \n\n[34299 rows x 10 columns]",
      "text/html": "<div>\n<style scoped>\n    .dataframe tbody tr th:only-of-type {\n        vertical-align: middle;\n    }\n\n    .dataframe tbody tr th {\n        vertical-align: top;\n    }\n\n    .dataframe thead th {\n        text-align: right;\n    }\n</style>\n<table border=\"1\" class=\"dataframe\">\n  <thead>\n    <tr style=\"text-align: right;\">\n      <th></th>\n      <th>APPLICATION_TYPE</th>\n      <th>AFFILIATION</th>\n      <th>CLASSIFICATION</th>\n      <th>USE_CASE</th>\n      <th>ORGANIZATION</th>\n      <th>STATUS</th>\n      <th>INCOME_AMT</th>\n      <th>SPECIAL_CONSIDERATIONS</th>\n      <th>ASK_AMT</th>\n      <th>IS_SUCCESSFUL</th>\n    </tr>\n  </thead>\n  <tbody>\n    <tr>\n      <th>0</th>\n      <td>T10</td>\n      <td>Independent</td>\n      <td>C1000</td>\n      <td>ProductDev</td>\n      <td>Association</td>\n      <td>1</td>\n      <td>0</td>\n      <td>N</td>\n      <td>5000</td>\n      <td>1</td>\n    </tr>\n    <tr>\n      <th>1</th>\n      <td>T3</td>\n      <td>Independent</td>\n      <td>C2000</td>\n      <td>Preservation</td>\n      <td>Co-operative</td>\n      <td>1</td>\n      <td>1-9999</td>\n      <td>N</td>\n      <td>108590</td>\n      <td>1</td>\n    </tr>\n    <tr>\n      <th>2</th>\n      <td>T5</td>\n      <td>CompanySponsored</td>\n      <td>C3000</td>\n      <td>ProductDev</td>\n      <td>Association</td>\n      <td>1</td>\n      <td>0</td>\n      <td>N</td>\n      <td>5000</td>\n      <td>0</td>\n    </tr>\n    <tr>\n      <th>3</th>\n      <td>T3</td>\n      <td>CompanySponsored</td>\n      <td>C2000</td>\n      <td>Preservation</td>\n      <td>Trust</td>\n      <td>1</td>\n      <td>10000-24999</td>\n      <td>N</td>\n      <td>6692</td>\n      <td>1</td>\n    </tr>\n    <tr>\n      <th>4</th>\n      <td>T3</td>\n      <td>Independent</td>\n      <td>C1000</td>\n      <td>Heathcare</td>\n      <td>Trust</td>\n      <td>1</td>\n      <td>100000-499999</td>\n      <td>N</td>\n      <td>142590</td>\n      <td>1</td>\n    </tr>\n    <tr>\n      <th>...</th>\n      <td>...</td>\n      <td>...</td>\n      <td>...</td>\n      <td>...</td>\n      <td>...</td>\n      <td>...</td>\n      <td>...</td>\n      <td>...</td>\n      <td>...</td>\n      <td>...</td>\n    </tr>\n    <tr>\n      <th>34294</th>\n      <td>T4</td>\n      <td>Independent</td>\n      <td>C1000</td>\n      <td>ProductDev</td>\n      <td>Association</td>\n      <td>1</td>\n      <td>0</td>\n      <td>N</td>\n      <td>5000</td>\n      <td>0</td>\n    </tr>\n    <tr>\n      <th>34295</th>\n      <td>T4</td>\n      <td>CompanySponsored</td>\n      <td>C3000</td>\n      <td>ProductDev</td>\n      <td>Association</td>\n      <td>1</td>\n      <td>0</td>\n      <td>N</td>\n      <td>5000</td>\n      <td>0</td>\n    </tr>\n    <tr>\n      <th>34296</th>\n      <td>T3</td>\n      <td>CompanySponsored</td>\n      <td>C2000</td>\n      <td>Preservation</td>\n      <td>Association</td>\n      <td>1</td>\n      <td>0</td>\n      <td>N</td>\n      <td>5000</td>\n      <td>0</td>\n    </tr>\n    <tr>\n      <th>34297</th>\n      <td>T5</td>\n      <td>Independent</td>\n      <td>C3000</td>\n      <td>ProductDev</td>\n      <td>Association</td>\n      <td>1</td>\n      <td>0</td>\n      <td>N</td>\n      <td>5000</td>\n      <td>1</td>\n    </tr>\n    <tr>\n      <th>34298</th>\n      <td>T3</td>\n      <td>Independent</td>\n      <td>C1000</td>\n      <td>Preservation</td>\n      <td>Co-operative</td>\n      <td>1</td>\n      <td>1M-5M</td>\n      <td>N</td>\n      <td>36500179</td>\n      <td>0</td>\n    </tr>\n  </tbody>\n</table>\n<p>34299 rows × 10 columns</p>\n</div>"
     },
     "execution_count": 30,
     "metadata": {},
     "output_type": "execute_result"
    }
   ],
   "source": [
    "# Drop the non-beneficial ID columns, 'EIN' and 'NAME'.\n",
    "\n",
    "application_df = application_df.drop(columns=['EIN', 'NAME'])\n",
    "\n",
    "application_df"
   ]
  },
  {
   "cell_type": "code",
   "execution_count": 31,
   "metadata": {},
   "outputs": [
    {
     "data": {
      "text/plain": "APPLICATION_TYPE            17\nAFFILIATION                  6\nCLASSIFICATION              71\nUSE_CASE                     5\nORGANIZATION                 4\nSTATUS                       2\nINCOME_AMT                   9\nSPECIAL_CONSIDERATIONS       2\nASK_AMT                   8747\nIS_SUCCESSFUL                2\ndtype: int64"
     },
     "execution_count": 31,
     "metadata": {},
     "output_type": "execute_result"
    }
   ],
   "source": [
    "# Determine the number of unique values in each column.\n",
    "application_df.nunique()"
   ]
  },
  {
   "cell_type": "code",
   "execution_count": 32,
   "metadata": {},
   "outputs": [
    {
     "data": {
      "text/plain": "T3     27037\nT4      1542\nT6      1216\nT5      1173\nT19     1065\nT8       737\nT7       725\nT10      528\nT9       156\nT13       66\nT12       27\nT2        16\nT25        3\nT14        3\nT29        2\nT15        2\nT17        1\nName: APPLICATION_TYPE, dtype: int64"
     },
     "execution_count": 32,
     "metadata": {},
     "output_type": "execute_result"
    }
   ],
   "source": [
    "# For columns with more than 10 unique values, determine the number of data points for each unique value.\n",
    "app = application_df['APPLICATION_TYPE'].value_counts()\n",
    "app"
   ]
  },
  {
   "cell_type": "code",
   "execution_count": 33,
   "metadata": {},
   "outputs": [
    {
     "data": {
      "text/plain": "['T8',\n 'T7',\n 'T10',\n 'T9',\n 'T13',\n 'T12',\n 'T2',\n 'T25',\n 'T14',\n 'T29',\n 'T15',\n 'T17']"
     },
     "execution_count": 33,
     "metadata": {},
     "output_type": "execute_result"
    }
   ],
   "source": [
    "# Choose cutoff for binning\n",
    "cut_off = 800\n",
    "# use the variable name `application_replace` in the code below\n",
    "application_replace = []\n",
    "for item in app.index:\n",
    "    if app[item]<cut_off:\n",
    "        application_replace.append(item)\n",
    "\n",
    "application_replace\n"
   ]
  },
  {
   "cell_type": "code",
   "execution_count": 34,
   "outputs": [
    {
     "data": {
      "text/plain": "T3       27037\nOther     2266\nT4        1542\nT6        1216\nT5        1173\nT19       1065\nName: APPLICATION_TYPE, dtype: int64"
     },
     "execution_count": 34,
     "metadata": {},
     "output_type": "execute_result"
    }
   ],
   "source": [
    "#create new column with binning\n",
    "for i in application_replace:\n",
    "    application_df['APPLICATION_TYPE'] = application_df['APPLICATION_TYPE'].replace(i, 'Other')\n",
    "# check to make sure binning was successful\n",
    "application_df['APPLICATION_TYPE'].value_counts()"
   ],
   "metadata": {
    "collapsed": false
   }
  },
  {
   "cell_type": "code",
   "execution_count": 35,
   "outputs": [
    {
     "data": {
      "text/plain": "C1000    17326\nC2000     6074\nC1200     4837\nC3000     1918\nC2100     1883\nC7000      777\nC1700      287\nC4000      194\nC5000      116\nC1270      114\nC2700      104\nC2800       95\nC7100       75\nC1300       58\nC1280       50\nC1230       36\nC1400       34\nC7200       32\nC2300       32\nC1240       30\nC8000       20\nC7120       18\nC1500       16\nC1800       15\nC6000       15\nC1250       14\nC8200       11\nC1238       10\nC1278       10\nC1235        9\nC1237        9\nC7210        7\nC2400        6\nC1720        6\nC4100        6\nC1257        5\nC1600        5\nC1260        3\nC2710        3\nC0           3\nC3200        2\nC1234        2\nC1246        2\nC1267        2\nC1256        2\nName: CLASSIFICATION, dtype: int64"
     },
     "execution_count": 35,
     "metadata": {},
     "output_type": "execute_result"
    }
   ],
   "source": [
    "# You may find it helpful to look at CLASSIFICATION value counts >1\n",
    "#  YOUR CODE GOES HERE\n",
    "application_df['CLASSIFICATION'].value_counts().loc[lambda x : x >1]"
   ],
   "metadata": {
    "collapsed": false
   }
  },
  {
   "cell_type": "code",
   "execution_count": 36,
   "outputs": [
    {
     "data": {
      "text/plain": "C1000    17326\nC2000     6074\nC1200     4837\nOther     2261\nC3000     1918\nC2100     1883\nName: CLASSIFICATION, dtype: int64"
     },
     "execution_count": 36,
     "metadata": {},
     "output_type": "execute_result"
    }
   ],
   "source": [
    "# Choose a cutoff point and create a new column for CLASSIFICATION that shows\n",
    "#  whether or not an organization is considered to be \"other\" based on its classification\n",
    "#  YOUR CODE GOES HERE\n",
    "classification_replace = list(application_df['CLASSIFICATION'].value_counts().loc[lambda x : x < 1000].index)\n",
    "#Replace in dataframe\n",
    "for i in classification_replace:\n",
    "    application_df['CLASSIFICATION'] = application_df['CLASSIFICATION'].replace(i, 'Other')\n",
    "# Check to make sure binning was successful\n",
    "application_df['CLASSIFICATION'].value_counts()"
   ],
   "metadata": {
    "collapsed": false
   }
  },
  {
   "cell_type": "code",
   "execution_count": 37,
   "outputs": [
    {
     "data": {
      "text/plain": "   STATUS  ASK_AMT  IS_SUCCESSFUL  APPLICATION_TYPE_Other  \\\n0       1     5000              1                       1   \n1       1   108590              1                       0   \n2       1     5000              0                       0   \n3       1     6692              1                       0   \n4       1   142590              1                       0   \n\n   APPLICATION_TYPE_T19  APPLICATION_TYPE_T3  APPLICATION_TYPE_T4  \\\n0                     0                    0                    0   \n1                     0                    1                    0   \n2                     0                    0                    0   \n3                     0                    1                    0   \n4                     0                    1                    0   \n\n   APPLICATION_TYPE_T5  APPLICATION_TYPE_T6  AFFILIATION_CompanySponsored  \\\n0                    0                    0                             0   \n1                    0                    0                             0   \n2                    1                    0                             1   \n3                    0                    0                             1   \n4                    0                    0                             0   \n\n   ...  INCOME_AMT_1-9999  INCOME_AMT_10000-24999  INCOME_AMT_100000-499999  \\\n0  ...                  0                       0                         0   \n1  ...                  1                       0                         0   \n2  ...                  0                       0                         0   \n3  ...                  0                       1                         0   \n4  ...                  0                       0                         1   \n\n   INCOME_AMT_10M-50M  INCOME_AMT_1M-5M  INCOME_AMT_25000-99999  \\\n0                   0                 0                       0   \n1                   0                 0                       0   \n2                   0                 0                       0   \n3                   0                 0                       0   \n4                   0                 0                       0   \n\n   INCOME_AMT_50M+  INCOME_AMT_5M-10M  SPECIAL_CONSIDERATIONS_N  \\\n0                0                  0                         1   \n1                0                  0                         1   \n2                0                  0                         1   \n3                0                  0                         1   \n4                0                  0                         1   \n\n   SPECIAL_CONSIDERATIONS_Y  \n0                         0  \n1                         0  \n2                         0  \n3                         0  \n4                         0  \n\n[5 rows x 41 columns]",
      "text/html": "<div>\n<style scoped>\n    .dataframe tbody tr th:only-of-type {\n        vertical-align: middle;\n    }\n\n    .dataframe tbody tr th {\n        vertical-align: top;\n    }\n\n    .dataframe thead th {\n        text-align: right;\n    }\n</style>\n<table border=\"1\" class=\"dataframe\">\n  <thead>\n    <tr style=\"text-align: right;\">\n      <th></th>\n      <th>STATUS</th>\n      <th>ASK_AMT</th>\n      <th>IS_SUCCESSFUL</th>\n      <th>APPLICATION_TYPE_Other</th>\n      <th>APPLICATION_TYPE_T19</th>\n      <th>APPLICATION_TYPE_T3</th>\n      <th>APPLICATION_TYPE_T4</th>\n      <th>APPLICATION_TYPE_T5</th>\n      <th>APPLICATION_TYPE_T6</th>\n      <th>AFFILIATION_CompanySponsored</th>\n      <th>...</th>\n      <th>INCOME_AMT_1-9999</th>\n      <th>INCOME_AMT_10000-24999</th>\n      <th>INCOME_AMT_100000-499999</th>\n      <th>INCOME_AMT_10M-50M</th>\n      <th>INCOME_AMT_1M-5M</th>\n      <th>INCOME_AMT_25000-99999</th>\n      <th>INCOME_AMT_50M+</th>\n      <th>INCOME_AMT_5M-10M</th>\n      <th>SPECIAL_CONSIDERATIONS_N</th>\n      <th>SPECIAL_CONSIDERATIONS_Y</th>\n    </tr>\n  </thead>\n  <tbody>\n    <tr>\n      <th>0</th>\n      <td>1</td>\n      <td>5000</td>\n      <td>1</td>\n      <td>1</td>\n      <td>0</td>\n      <td>0</td>\n      <td>0</td>\n      <td>0</td>\n      <td>0</td>\n      <td>0</td>\n      <td>...</td>\n      <td>0</td>\n      <td>0</td>\n      <td>0</td>\n      <td>0</td>\n      <td>0</td>\n      <td>0</td>\n      <td>0</td>\n      <td>0</td>\n      <td>1</td>\n      <td>0</td>\n    </tr>\n    <tr>\n      <th>1</th>\n      <td>1</td>\n      <td>108590</td>\n      <td>1</td>\n      <td>0</td>\n      <td>0</td>\n      <td>1</td>\n      <td>0</td>\n      <td>0</td>\n      <td>0</td>\n      <td>0</td>\n      <td>...</td>\n      <td>1</td>\n      <td>0</td>\n      <td>0</td>\n      <td>0</td>\n      <td>0</td>\n      <td>0</td>\n      <td>0</td>\n      <td>0</td>\n      <td>1</td>\n      <td>0</td>\n    </tr>\n    <tr>\n      <th>2</th>\n      <td>1</td>\n      <td>5000</td>\n      <td>0</td>\n      <td>0</td>\n      <td>0</td>\n      <td>0</td>\n      <td>0</td>\n      <td>1</td>\n      <td>0</td>\n      <td>1</td>\n      <td>...</td>\n      <td>0</td>\n      <td>0</td>\n      <td>0</td>\n      <td>0</td>\n      <td>0</td>\n      <td>0</td>\n      <td>0</td>\n      <td>0</td>\n      <td>1</td>\n      <td>0</td>\n    </tr>\n    <tr>\n      <th>3</th>\n      <td>1</td>\n      <td>6692</td>\n      <td>1</td>\n      <td>0</td>\n      <td>0</td>\n      <td>1</td>\n      <td>0</td>\n      <td>0</td>\n      <td>0</td>\n      <td>1</td>\n      <td>...</td>\n      <td>0</td>\n      <td>1</td>\n      <td>0</td>\n      <td>0</td>\n      <td>0</td>\n      <td>0</td>\n      <td>0</td>\n      <td>0</td>\n      <td>1</td>\n      <td>0</td>\n    </tr>\n    <tr>\n      <th>4</th>\n      <td>1</td>\n      <td>142590</td>\n      <td>1</td>\n      <td>0</td>\n      <td>0</td>\n      <td>1</td>\n      <td>0</td>\n      <td>0</td>\n      <td>0</td>\n      <td>0</td>\n      <td>...</td>\n      <td>0</td>\n      <td>0</td>\n      <td>1</td>\n      <td>0</td>\n      <td>0</td>\n      <td>0</td>\n      <td>0</td>\n      <td>0</td>\n      <td>1</td>\n      <td>0</td>\n    </tr>\n  </tbody>\n</table>\n<p>5 rows × 41 columns</p>\n</div>"
     },
     "execution_count": 37,
     "metadata": {},
     "output_type": "execute_result"
    }
   ],
   "source": [
    "# Convert categorical data to numeric with `pd.get_dummies`\n",
    "#  YOUR CODE GOES HERE\n",
    "application_df = pd.get_dummies(application_df)\n",
    "application_df.head()"
   ],
   "metadata": {
    "collapsed": false
   }
  },
  {
   "cell_type": "markdown",
   "source": [
    "## Compile, Train and Evaluate the Model"
   ],
   "metadata": {
    "collapsed": false
   }
  },
  {
   "cell_type": "code",
   "execution_count": 38,
   "outputs": [],
   "source": [
    "# Split our preprocessed data into our features and target arrays\n",
    "#  YOUR CODE GOES HERE\n",
    "y = application_df['IS_SUCCESSFUL'].values\n",
    "X = application_df.drop(columns=['IS_SUCCESSFUL']).values\n",
    "\n",
    "# Split the preprocessed data into a training and testing dataset\n",
    "#  YOUR CODE GOES HERE\n",
    "X_train, X_test, y_train, y_test = train_test_split(X, y, random_state=78)"
   ],
   "metadata": {
    "collapsed": false
   }
  },
  {
   "cell_type": "code",
   "execution_count": 39,
   "metadata": {},
   "outputs": [],
   "source": [
    "# Create a StandardScaler instances\n",
    "scaler = StandardScaler()\n",
    "\n",
    "# Fit the StandardScaler\n",
    "X_scaler = scaler.fit(X_train)\n",
    "\n",
    "# Scale the data\n",
    "X_train_scaled = X_scaler.transform(X_train)\n",
    "X_test_scaled = X_scaler.transform(X_test)"
   ]
  },
  {
   "cell_type": "code",
   "execution_count": 40,
   "outputs": [
    {
     "name": "stdout",
     "output_type": "stream",
     "text": [
      "Model: \"sequential_1\"\n",
      "_________________________________________________________________\n",
      " Layer (type)                Output Shape              Param #   \n",
      "=================================================================\n",
      " dense_3 (Dense)             (None, 80)                3280      \n",
      "                                                                 \n",
      " dense_4 (Dense)             (None, 30)                2430      \n",
      "                                                                 \n",
      " dense_5 (Dense)             (None, 1)                 31        \n",
      "                                                                 \n",
      "=================================================================\n",
      "Total params: 5,741\n",
      "Trainable params: 5,741\n",
      "Non-trainable params: 0\n",
      "_________________________________________________________________\n"
     ]
    }
   ],
   "source": [
    "# Define the model - deep neural net, i.e., the number of input features and hidden nodes for each layer.\n",
    "#  YOUR CODE GOES HERE\n",
    "number_input_features = len(X_train[0])\n",
    "hidden_nodes_layer1 =  80\n",
    "hidden_nodes_layer2 = 30\n",
    "\n",
    "nn = tf.keras.models.Sequential()\n",
    "\n",
    "# First hidden layer\n",
    "nn.add(tf.keras.layers.Dense(units=hidden_nodes_layer1, input_dim=number_input_features, activation=\"relu\"))\n",
    "\n",
    "# Second hidden layer\n",
    "nn.add(tf.keras.layers.Dense(units=hidden_nodes_layer2, activation=\"relu\"))\n",
    "\n",
    "# Output layer\n",
    "nn.add(tf.keras.layers.Dense(units=1, activation=\"sigmoid\"))\n",
    "\n",
    "# Check the structure of the model\n",
    "nn.summary()"
   ],
   "metadata": {
    "collapsed": false
   }
  },
  {
   "cell_type": "code",
   "execution_count": 41,
   "outputs": [],
   "source": [
    "# Compile the model\n",
    "#  YOUR CODE GOES HERE\n",
    "nn.compile(loss=\"binary_crossentropy\", optimizer=\"adam\", metrics=[\"accuracy\"])"
   ],
   "metadata": {
    "collapsed": false
   }
  },
  {
   "cell_type": "code",
   "execution_count": 42,
   "outputs": [
    {
     "name": "stdout",
     "output_type": "stream",
     "text": [
      "Epoch 1/100\n"
     ]
    },
    {
     "name": "stderr",
     "output_type": "stream",
     "text": [
      "2023-02-14 16:28:35.126970: W tensorflow/tsl/platform/profile_utils/cpu_utils.cc:128] Failed to get CPU frequency: 0 Hz\n"
     ]
    },
    {
     "name": "stdout",
     "output_type": "stream",
     "text": [
      "804/804 [==============================] - 1s 423us/step - loss: 0.5739 - accuracy: 0.7209\n",
      "Epoch 2/100\n",
      "804/804 [==============================] - 0s 398us/step - loss: 0.5581 - accuracy: 0.7301\n",
      "Epoch 3/100\n",
      "804/804 [==============================] - 0s 415us/step - loss: 0.5560 - accuracy: 0.7303\n",
      "Epoch 4/100\n",
      "804/804 [==============================] - 0s 400us/step - loss: 0.5548 - accuracy: 0.7325\n",
      "Epoch 5/100\n",
      "804/804 [==============================] - 0s 407us/step - loss: 0.5527 - accuracy: 0.7319\n",
      "Epoch 6/100\n",
      "804/804 [==============================] - 0s 403us/step - loss: 0.5523 - accuracy: 0.7328\n",
      "Epoch 7/100\n",
      "804/804 [==============================] - 0s 461us/step - loss: 0.5513 - accuracy: 0.7326\n",
      "Epoch 8/100\n",
      "804/804 [==============================] - 0s 399us/step - loss: 0.5509 - accuracy: 0.7328\n",
      "Epoch 9/100\n",
      "804/804 [==============================] - 0s 404us/step - loss: 0.5503 - accuracy: 0.7336\n",
      "Epoch 10/100\n",
      "804/804 [==============================] - 0s 404us/step - loss: 0.5503 - accuracy: 0.7340\n",
      "Epoch 11/100\n",
      "804/804 [==============================] - 0s 414us/step - loss: 0.5494 - accuracy: 0.7352\n",
      "Epoch 12/100\n",
      "804/804 [==============================] - 0s 411us/step - loss: 0.5489 - accuracy: 0.7343\n",
      "Epoch 13/100\n",
      "804/804 [==============================] - 0s 404us/step - loss: 0.5486 - accuracy: 0.7340\n",
      "Epoch 14/100\n",
      "804/804 [==============================] - 0s 397us/step - loss: 0.5488 - accuracy: 0.7353\n",
      "Epoch 15/100\n",
      "804/804 [==============================] - 0s 398us/step - loss: 0.5481 - accuracy: 0.7352\n",
      "Epoch 16/100\n",
      "804/804 [==============================] - 0s 403us/step - loss: 0.5474 - accuracy: 0.7362\n",
      "Epoch 17/100\n",
      "804/804 [==============================] - 0s 405us/step - loss: 0.5471 - accuracy: 0.7364\n",
      "Epoch 18/100\n",
      "804/804 [==============================] - 0s 399us/step - loss: 0.5470 - accuracy: 0.7349\n",
      "Epoch 19/100\n",
      "804/804 [==============================] - 0s 393us/step - loss: 0.5471 - accuracy: 0.7360\n",
      "Epoch 20/100\n",
      "804/804 [==============================] - 0s 423us/step - loss: 0.5466 - accuracy: 0.7355\n",
      "Epoch 21/100\n",
      "804/804 [==============================] - 0s 395us/step - loss: 0.5461 - accuracy: 0.7355\n",
      "Epoch 22/100\n",
      "804/804 [==============================] - 0s 397us/step - loss: 0.5465 - accuracy: 0.7371\n",
      "Epoch 23/100\n",
      "804/804 [==============================] - 0s 395us/step - loss: 0.5461 - accuracy: 0.7358\n",
      "Epoch 24/100\n",
      "804/804 [==============================] - 0s 399us/step - loss: 0.5463 - accuracy: 0.7365\n",
      "Epoch 25/100\n",
      "804/804 [==============================] - 0s 398us/step - loss: 0.5458 - accuracy: 0.7373\n",
      "Epoch 26/100\n",
      "804/804 [==============================] - 0s 395us/step - loss: 0.5453 - accuracy: 0.7371\n",
      "Epoch 27/100\n",
      "804/804 [==============================] - 0s 396us/step - loss: 0.5457 - accuracy: 0.7376\n",
      "Epoch 28/100\n",
      "804/804 [==============================] - 0s 400us/step - loss: 0.5456 - accuracy: 0.7364\n",
      "Epoch 29/100\n",
      "804/804 [==============================] - 0s 403us/step - loss: 0.5451 - accuracy: 0.7376\n",
      "Epoch 30/100\n",
      "804/804 [==============================] - 0s 397us/step - loss: 0.5447 - accuracy: 0.7369\n",
      "Epoch 31/100\n",
      "804/804 [==============================] - 0s 395us/step - loss: 0.5451 - accuracy: 0.7371\n",
      "Epoch 32/100\n",
      "804/804 [==============================] - 0s 398us/step - loss: 0.5450 - accuracy: 0.7373\n",
      "Epoch 33/100\n",
      "804/804 [==============================] - 0s 401us/step - loss: 0.5445 - accuracy: 0.7379\n",
      "Epoch 34/100\n",
      "804/804 [==============================] - 0s 400us/step - loss: 0.5443 - accuracy: 0.7372\n",
      "Epoch 35/100\n",
      "804/804 [==============================] - 0s 400us/step - loss: 0.5444 - accuracy: 0.7371\n",
      "Epoch 36/100\n",
      "804/804 [==============================] - 0s 417us/step - loss: 0.5441 - accuracy: 0.7371\n",
      "Epoch 37/100\n",
      "804/804 [==============================] - 0s 402us/step - loss: 0.5440 - accuracy: 0.7372\n",
      "Epoch 38/100\n",
      "804/804 [==============================] - 0s 402us/step - loss: 0.5443 - accuracy: 0.7377\n",
      "Epoch 39/100\n",
      "804/804 [==============================] - 0s 404us/step - loss: 0.5435 - accuracy: 0.7382\n",
      "Epoch 40/100\n",
      "804/804 [==============================] - 0s 398us/step - loss: 0.5434 - accuracy: 0.7376\n",
      "Epoch 41/100\n",
      "804/804 [==============================] - 0s 403us/step - loss: 0.5441 - accuracy: 0.7384\n",
      "Epoch 42/100\n",
      "804/804 [==============================] - 0s 399us/step - loss: 0.5431 - accuracy: 0.7387\n",
      "Epoch 43/100\n",
      "804/804 [==============================] - 0s 402us/step - loss: 0.5434 - accuracy: 0.7383\n",
      "Epoch 44/100\n",
      "804/804 [==============================] - 0s 396us/step - loss: 0.5435 - accuracy: 0.7387\n",
      "Epoch 45/100\n",
      "804/804 [==============================] - 0s 398us/step - loss: 0.5434 - accuracy: 0.7379\n",
      "Epoch 46/100\n",
      "804/804 [==============================] - 0s 398us/step - loss: 0.5433 - accuracy: 0.7382\n",
      "Epoch 47/100\n",
      "804/804 [==============================] - 0s 404us/step - loss: 0.5428 - accuracy: 0.7389\n",
      "Epoch 48/100\n",
      "804/804 [==============================] - 0s 399us/step - loss: 0.5430 - accuracy: 0.7386\n",
      "Epoch 49/100\n",
      "804/804 [==============================] - 0s 400us/step - loss: 0.5427 - accuracy: 0.7384\n",
      "Epoch 50/100\n",
      "804/804 [==============================] - 0s 400us/step - loss: 0.5424 - accuracy: 0.7393\n",
      "Epoch 51/100\n",
      "804/804 [==============================] - 0s 400us/step - loss: 0.5426 - accuracy: 0.7381\n",
      "Epoch 52/100\n",
      "804/804 [==============================] - 0s 398us/step - loss: 0.5424 - accuracy: 0.7386\n",
      "Epoch 53/100\n",
      "804/804 [==============================] - 0s 401us/step - loss: 0.5426 - accuracy: 0.7388\n",
      "Epoch 54/100\n",
      "804/804 [==============================] - 0s 400us/step - loss: 0.5422 - accuracy: 0.7383\n",
      "Epoch 55/100\n",
      "804/804 [==============================] - 0s 400us/step - loss: 0.5420 - accuracy: 0.7385\n",
      "Epoch 56/100\n",
      "804/804 [==============================] - 0s 401us/step - loss: 0.5423 - accuracy: 0.7388\n",
      "Epoch 57/100\n",
      "804/804 [==============================] - 0s 418us/step - loss: 0.5418 - accuracy: 0.7389\n",
      "Epoch 58/100\n",
      "804/804 [==============================] - 0s 482us/step - loss: 0.5419 - accuracy: 0.7393\n",
      "Epoch 59/100\n",
      "804/804 [==============================] - 0s 400us/step - loss: 0.5417 - accuracy: 0.7387\n",
      "Epoch 60/100\n",
      "804/804 [==============================] - 0s 399us/step - loss: 0.5419 - accuracy: 0.7387\n",
      "Epoch 61/100\n",
      "804/804 [==============================] - 0s 399us/step - loss: 0.5421 - accuracy: 0.7397\n",
      "Epoch 62/100\n",
      "804/804 [==============================] - 0s 399us/step - loss: 0.5415 - accuracy: 0.7398\n",
      "Epoch 63/100\n",
      "804/804 [==============================] - 0s 395us/step - loss: 0.5418 - accuracy: 0.7392\n",
      "Epoch 64/100\n",
      "804/804 [==============================] - 0s 406us/step - loss: 0.5414 - accuracy: 0.7390\n",
      "Epoch 65/100\n",
      "804/804 [==============================] - 0s 398us/step - loss: 0.5414 - accuracy: 0.7387\n",
      "Epoch 66/100\n",
      "804/804 [==============================] - 0s 402us/step - loss: 0.5414 - accuracy: 0.7398\n",
      "Epoch 67/100\n",
      "804/804 [==============================] - 0s 401us/step - loss: 0.5405 - accuracy: 0.7396\n",
      "Epoch 68/100\n",
      "804/804 [==============================] - 0s 402us/step - loss: 0.5412 - accuracy: 0.7396\n",
      "Epoch 69/100\n",
      "804/804 [==============================] - 0s 394us/step - loss: 0.5413 - accuracy: 0.7398\n",
      "Epoch 70/100\n",
      "804/804 [==============================] - 0s 393us/step - loss: 0.5412 - accuracy: 0.7396\n",
      "Epoch 71/100\n",
      "804/804 [==============================] - 0s 395us/step - loss: 0.5410 - accuracy: 0.7400\n",
      "Epoch 72/100\n",
      "804/804 [==============================] - 0s 393us/step - loss: 0.5408 - accuracy: 0.7395\n",
      "Epoch 73/100\n",
      "804/804 [==============================] - 0s 393us/step - loss: 0.5412 - accuracy: 0.7400\n",
      "Epoch 74/100\n",
      "804/804 [==============================] - 0s 393us/step - loss: 0.5407 - accuracy: 0.7399\n",
      "Epoch 75/100\n",
      "804/804 [==============================] - 0s 392us/step - loss: 0.5411 - accuracy: 0.7395\n",
      "Epoch 76/100\n",
      "804/804 [==============================] - 0s 393us/step - loss: 0.5408 - accuracy: 0.7403\n",
      "Epoch 77/100\n",
      "804/804 [==============================] - 0s 392us/step - loss: 0.5407 - accuracy: 0.7399\n",
      "Epoch 78/100\n",
      "804/804 [==============================] - 0s 393us/step - loss: 0.5408 - accuracy: 0.7394\n",
      "Epoch 79/100\n",
      "804/804 [==============================] - 0s 395us/step - loss: 0.5406 - accuracy: 0.7398\n",
      "Epoch 80/100\n",
      "804/804 [==============================] - 0s 389us/step - loss: 0.5412 - accuracy: 0.7400\n",
      "Epoch 81/100\n",
      "804/804 [==============================] - 0s 394us/step - loss: 0.5407 - accuracy: 0.7400\n",
      "Epoch 82/100\n",
      "804/804 [==============================] - 0s 393us/step - loss: 0.5404 - accuracy: 0.7406\n",
      "Epoch 83/100\n",
      "804/804 [==============================] - 0s 395us/step - loss: 0.5405 - accuracy: 0.7397\n",
      "Epoch 84/100\n",
      "804/804 [==============================] - 0s 397us/step - loss: 0.5406 - accuracy: 0.7403\n",
      "Epoch 85/100\n",
      "804/804 [==============================] - 0s 392us/step - loss: 0.5400 - accuracy: 0.7395\n",
      "Epoch 86/100\n",
      "804/804 [==============================] - 0s 395us/step - loss: 0.5402 - accuracy: 0.7403\n",
      "Epoch 87/100\n",
      "804/804 [==============================] - 0s 400us/step - loss: 0.5402 - accuracy: 0.7393\n",
      "Epoch 88/100\n",
      "804/804 [==============================] - 0s 391us/step - loss: 0.5401 - accuracy: 0.7407\n",
      "Epoch 89/100\n",
      "804/804 [==============================] - 0s 393us/step - loss: 0.5399 - accuracy: 0.7400\n",
      "Epoch 90/100\n",
      "804/804 [==============================] - 0s 394us/step - loss: 0.5401 - accuracy: 0.7400\n",
      "Epoch 91/100\n",
      "804/804 [==============================] - 0s 398us/step - loss: 0.5397 - accuracy: 0.7403\n",
      "Epoch 92/100\n",
      "804/804 [==============================] - 0s 392us/step - loss: 0.5403 - accuracy: 0.7398\n",
      "Epoch 93/100\n",
      "804/804 [==============================] - 0s 395us/step - loss: 0.5400 - accuracy: 0.7396\n",
      "Epoch 94/100\n",
      "804/804 [==============================] - 0s 392us/step - loss: 0.5399 - accuracy: 0.7406\n",
      "Epoch 95/100\n",
      "804/804 [==============================] - 0s 391us/step - loss: 0.5400 - accuracy: 0.7403\n",
      "Epoch 96/100\n",
      "804/804 [==============================] - 0s 392us/step - loss: 0.5393 - accuracy: 0.7405\n",
      "Epoch 97/100\n",
      "804/804 [==============================] - 0s 393us/step - loss: 0.5396 - accuracy: 0.7402\n",
      "Epoch 98/100\n",
      "804/804 [==============================] - 0s 391us/step - loss: 0.5396 - accuracy: 0.7397\n",
      "Epoch 99/100\n",
      "804/804 [==============================] - 0s 393us/step - loss: 0.5398 - accuracy: 0.7399\n",
      "Epoch 100/100\n",
      "804/804 [==============================] - 0s 396us/step - loss: 0.5393 - accuracy: 0.7411\n"
     ]
    }
   ],
   "source": [
    "# Train the model\n",
    "#  YOUR CODE GOES HERE\n",
    "fit_model = nn.fit(X_train_scaled,y_train,epochs=100)"
   ],
   "metadata": {
    "collapsed": false
   }
  },
  {
   "cell_type": "code",
   "execution_count": 43,
   "metadata": {},
   "outputs": [
    {
     "name": "stdout",
     "output_type": "stream",
     "text": [
      "268/268 - 0s - loss: 0.5603 - accuracy: 0.7251 - 140ms/epoch - 523us/step\n",
      "Loss: 0.5603480339050293, Accuracy: 0.7251312136650085\n"
     ]
    }
   ],
   "source": [
    "# Evaluate the model using the test data\n",
    "model_loss, model_accuracy = nn.evaluate(X_test_scaled,y_test,verbose=2)\n",
    "print(f\"Loss: {model_loss}, Accuracy: {model_accuracy}\")"
   ]
  },
  {
   "cell_type": "code",
   "execution_count": 44,
   "metadata": {},
   "outputs": [],
   "source": [
    "# Export our model to HDF5 file\n",
    "#  YOUR CODE GOES HERE\n",
    "nn.save(\"AlphabetSoupCharity.h5\")"
   ]
  },
  {
   "cell_type": "code",
   "execution_count": 45,
   "outputs": [],
   "source": [
    "# test push"
   ],
   "metadata": {
    "collapsed": false
   }
  }
 ],
 "metadata": {
  "kernelspec": {
   "display_name": "Python 3",
   "language": "python",
   "name": "python3"
  },
  "language_info": {
   "codemirror_mode": {
    "name": "ipython",
    "version": 3
   },
   "file_extension": ".py",
   "mimetype": "text/x-python",
   "name": "python",
   "nbconvert_exporter": "python",
   "pygments_lexer": "ipython3",
   "version": "3.7.6"
  }
 },
 "nbformat": 4,
 "nbformat_minor": 4
}
