{
 "cells": [
  {
   "cell_type": "code",
   "execution_count": 43,
   "metadata": {},
   "outputs": [
    {
     "data": {
      "text/plain": "        EIN                                      NAME APPLICATION_TYPE  \\\n0  10520599              BLUE KNIGHTS MOTORCYCLE CLUB              T10   \n1  10531628    AMERICAN CHESAPEAKE CLUB CHARITABLE TR               T3   \n2  10547893        ST CLOUD PROFESSIONAL FIREFIGHTERS               T5   \n3  10553066            SOUTHSIDE ATHLETIC ASSOCIATION               T3   \n4  10556103  GENETIC RESEARCH INSTITUTE OF THE DESERT               T3   \n\n        AFFILIATION CLASSIFICATION      USE_CASE  ORGANIZATION  STATUS  \\\n0       Independent          C1000    ProductDev   Association       1   \n1       Independent          C2000  Preservation  Co-operative       1   \n2  CompanySponsored          C3000    ProductDev   Association       1   \n3  CompanySponsored          C2000  Preservation         Trust       1   \n4       Independent          C1000     Heathcare         Trust       1   \n\n      INCOME_AMT SPECIAL_CONSIDERATIONS  ASK_AMT  IS_SUCCESSFUL  \n0              0                      N     5000              1  \n1         1-9999                      N   108590              1  \n2              0                      N     5000              0  \n3    10000-24999                      N     6692              1  \n4  100000-499999                      N   142590              1  ",
      "text/html": "<div>\n<style scoped>\n    .dataframe tbody tr th:only-of-type {\n        vertical-align: middle;\n    }\n\n    .dataframe tbody tr th {\n        vertical-align: top;\n    }\n\n    .dataframe thead th {\n        text-align: right;\n    }\n</style>\n<table border=\"1\" class=\"dataframe\">\n  <thead>\n    <tr style=\"text-align: right;\">\n      <th></th>\n      <th>EIN</th>\n      <th>NAME</th>\n      <th>APPLICATION_TYPE</th>\n      <th>AFFILIATION</th>\n      <th>CLASSIFICATION</th>\n      <th>USE_CASE</th>\n      <th>ORGANIZATION</th>\n      <th>STATUS</th>\n      <th>INCOME_AMT</th>\n      <th>SPECIAL_CONSIDERATIONS</th>\n      <th>ASK_AMT</th>\n      <th>IS_SUCCESSFUL</th>\n    </tr>\n  </thead>\n  <tbody>\n    <tr>\n      <th>0</th>\n      <td>10520599</td>\n      <td>BLUE KNIGHTS MOTORCYCLE CLUB</td>\n      <td>T10</td>\n      <td>Independent</td>\n      <td>C1000</td>\n      <td>ProductDev</td>\n      <td>Association</td>\n      <td>1</td>\n      <td>0</td>\n      <td>N</td>\n      <td>5000</td>\n      <td>1</td>\n    </tr>\n    <tr>\n      <th>1</th>\n      <td>10531628</td>\n      <td>AMERICAN CHESAPEAKE CLUB CHARITABLE TR</td>\n      <td>T3</td>\n      <td>Independent</td>\n      <td>C2000</td>\n      <td>Preservation</td>\n      <td>Co-operative</td>\n      <td>1</td>\n      <td>1-9999</td>\n      <td>N</td>\n      <td>108590</td>\n      <td>1</td>\n    </tr>\n    <tr>\n      <th>2</th>\n      <td>10547893</td>\n      <td>ST CLOUD PROFESSIONAL FIREFIGHTERS</td>\n      <td>T5</td>\n      <td>CompanySponsored</td>\n      <td>C3000</td>\n      <td>ProductDev</td>\n      <td>Association</td>\n      <td>1</td>\n      <td>0</td>\n      <td>N</td>\n      <td>5000</td>\n      <td>0</td>\n    </tr>\n    <tr>\n      <th>3</th>\n      <td>10553066</td>\n      <td>SOUTHSIDE ATHLETIC ASSOCIATION</td>\n      <td>T3</td>\n      <td>CompanySponsored</td>\n      <td>C2000</td>\n      <td>Preservation</td>\n      <td>Trust</td>\n      <td>1</td>\n      <td>10000-24999</td>\n      <td>N</td>\n      <td>6692</td>\n      <td>1</td>\n    </tr>\n    <tr>\n      <th>4</th>\n      <td>10556103</td>\n      <td>GENETIC RESEARCH INSTITUTE OF THE DESERT</td>\n      <td>T3</td>\n      <td>Independent</td>\n      <td>C1000</td>\n      <td>Heathcare</td>\n      <td>Trust</td>\n      <td>1</td>\n      <td>100000-499999</td>\n      <td>N</td>\n      <td>142590</td>\n      <td>1</td>\n    </tr>\n  </tbody>\n</table>\n</div>"
     },
     "execution_count": 43,
     "metadata": {},
     "output_type": "execute_result"
    }
   ],
   "source": [
    "# Import our dependencies\n",
    "from sklearn.model_selection import train_test_split\n",
    "from sklearn.preprocessing import StandardScaler\n",
    "import pandas as pd\n",
    "import tensorflow as tf\n",
    "\n",
    "#  Import and read the charity_data.csv.\n",
    "import pandas as pd\n",
    "application_df = pd.read_csv(\"../Resources/charity_data.csv\")\n",
    "application_df.head()"
   ]
  },
  {
   "cell_type": "code",
   "execution_count": 44,
   "metadata": {},
   "outputs": [
    {
     "data": {
      "text/plain": "  APPLICATION_TYPE       AFFILIATION CLASSIFICATION      USE_CASE  \\\n0              T10       Independent          C1000    ProductDev   \n1               T3       Independent          C2000  Preservation   \n2               T5  CompanySponsored          C3000    ProductDev   \n3               T3  CompanySponsored          C2000  Preservation   \n4               T3       Independent          C1000     Heathcare   \n\n   ORGANIZATION  STATUS     INCOME_AMT SPECIAL_CONSIDERATIONS  ASK_AMT  \\\n0   Association       1              0                      N     5000   \n1  Co-operative       1         1-9999                      N   108590   \n2   Association       1              0                      N     5000   \n3         Trust       1    10000-24999                      N     6692   \n4         Trust       1  100000-499999                      N   142590   \n\n   IS_SUCCESSFUL  \n0              1  \n1              1  \n2              0  \n3              1  \n4              1  ",
      "text/html": "<div>\n<style scoped>\n    .dataframe tbody tr th:only-of-type {\n        vertical-align: middle;\n    }\n\n    .dataframe tbody tr th {\n        vertical-align: top;\n    }\n\n    .dataframe thead th {\n        text-align: right;\n    }\n</style>\n<table border=\"1\" class=\"dataframe\">\n  <thead>\n    <tr style=\"text-align: right;\">\n      <th></th>\n      <th>APPLICATION_TYPE</th>\n      <th>AFFILIATION</th>\n      <th>CLASSIFICATION</th>\n      <th>USE_CASE</th>\n      <th>ORGANIZATION</th>\n      <th>STATUS</th>\n      <th>INCOME_AMT</th>\n      <th>SPECIAL_CONSIDERATIONS</th>\n      <th>ASK_AMT</th>\n      <th>IS_SUCCESSFUL</th>\n    </tr>\n  </thead>\n  <tbody>\n    <tr>\n      <th>0</th>\n      <td>T10</td>\n      <td>Independent</td>\n      <td>C1000</td>\n      <td>ProductDev</td>\n      <td>Association</td>\n      <td>1</td>\n      <td>0</td>\n      <td>N</td>\n      <td>5000</td>\n      <td>1</td>\n    </tr>\n    <tr>\n      <th>1</th>\n      <td>T3</td>\n      <td>Independent</td>\n      <td>C2000</td>\n      <td>Preservation</td>\n      <td>Co-operative</td>\n      <td>1</td>\n      <td>1-9999</td>\n      <td>N</td>\n      <td>108590</td>\n      <td>1</td>\n    </tr>\n    <tr>\n      <th>2</th>\n      <td>T5</td>\n      <td>CompanySponsored</td>\n      <td>C3000</td>\n      <td>ProductDev</td>\n      <td>Association</td>\n      <td>1</td>\n      <td>0</td>\n      <td>N</td>\n      <td>5000</td>\n      <td>0</td>\n    </tr>\n    <tr>\n      <th>3</th>\n      <td>T3</td>\n      <td>CompanySponsored</td>\n      <td>C2000</td>\n      <td>Preservation</td>\n      <td>Trust</td>\n      <td>1</td>\n      <td>10000-24999</td>\n      <td>N</td>\n      <td>6692</td>\n      <td>1</td>\n    </tr>\n    <tr>\n      <th>4</th>\n      <td>T3</td>\n      <td>Independent</td>\n      <td>C1000</td>\n      <td>Heathcare</td>\n      <td>Trust</td>\n      <td>1</td>\n      <td>100000-499999</td>\n      <td>N</td>\n      <td>142590</td>\n      <td>1</td>\n    </tr>\n  </tbody>\n</table>\n</div>"
     },
     "execution_count": 44,
     "metadata": {},
     "output_type": "execute_result"
    }
   ],
   "source": [
    "# Drop the non-beneficial ID columns, 'EIN' and 'NAME'.\n",
    "\n",
    "application_df = application_df.drop(columns=['EIN', 'NAME'])\n",
    "\n",
    "application_df.head()"
   ]
  },
  {
   "cell_type": "code",
   "execution_count": 45,
   "metadata": {},
   "outputs": [
    {
     "data": {
      "text/plain": "APPLICATION_TYPE            17\nAFFILIATION                  6\nCLASSIFICATION              71\nUSE_CASE                     5\nORGANIZATION                 4\nSTATUS                       2\nINCOME_AMT                   9\nSPECIAL_CONSIDERATIONS       2\nASK_AMT                   8747\nIS_SUCCESSFUL                2\ndtype: int64"
     },
     "execution_count": 45,
     "metadata": {},
     "output_type": "execute_result"
    }
   ],
   "source": [
    "# Determine the number of unique values in each column.\n",
    "application_df.nunique()"
   ]
  },
  {
   "cell_type": "code",
   "execution_count": 46,
   "metadata": {},
   "outputs": [
    {
     "data": {
      "text/plain": "T3     27037\nT4      1542\nT6      1216\nT5      1173\nT19     1065\nT8       737\nT7       725\nT10      528\nT9       156\nT13       66\nT12       27\nT2        16\nT25        3\nT14        3\nT29        2\nT15        2\nT17        1\nName: APPLICATION_TYPE, dtype: int64"
     },
     "execution_count": 46,
     "metadata": {},
     "output_type": "execute_result"
    }
   ],
   "source": [
    "# For columns with more than 10 unique values, determine the number of data points for each unique value.\n",
    "app = application_df['APPLICATION_TYPE'].value_counts()\n",
    "app"
   ]
  },
  {
   "cell_type": "code",
   "execution_count": 47,
   "metadata": {},
   "outputs": [
    {
     "data": {
      "text/plain": "['T8',\n 'T7',\n 'T10',\n 'T9',\n 'T13',\n 'T12',\n 'T2',\n 'T25',\n 'T14',\n 'T29',\n 'T15',\n 'T17']"
     },
     "execution_count": 47,
     "metadata": {},
     "output_type": "execute_result"
    }
   ],
   "source": [
    "# Choose cutoff for binning\n",
    "cut_off = 800\n",
    "# use the variable name `application_replace` in the code below\n",
    "application_replace = []\n",
    "for item in app.index:\n",
    "    if app[item]<cut_off:\n",
    "        application_replace.append(item)\n",
    "\n",
    "application_replace\n"
   ]
  },
  {
   "cell_type": "code",
   "execution_count": 48,
   "metadata": {},
   "outputs": [
    {
     "data": {
      "text/plain": "T3       27037\nOther     2266\nT4        1542\nT6        1216\nT5        1173\nT19       1065\nName: APPLICATION_TYPE, dtype: int64"
     },
     "execution_count": 48,
     "metadata": {},
     "output_type": "execute_result"
    }
   ],
   "source": [
    "#create new column with binning\n",
    "for i in application_replace:\n",
    "    application_df['APPLICATION_TYPE'] = application_df['APPLICATION_TYPE'].replace(i, 'Other')\n",
    "# check to make sure binning was successful\n",
    "application_df['APPLICATION_TYPE'].value_counts()"
   ]
  },
  {
   "cell_type": "code",
   "execution_count": 49,
   "metadata": {},
   "outputs": [
    {
     "data": {
      "text/plain": "C1000    17326\nC2000     6074\nC1200     4837\nC3000     1918\nC2100     1883\nC7000      777\nC1700      287\nC4000      194\nC5000      116\nC1270      114\nC2700      104\nC2800       95\nC7100       75\nC1300       58\nC1280       50\nC1230       36\nC1400       34\nC7200       32\nC2300       32\nC1240       30\nC8000       20\nC7120       18\nC1500       16\nC1800       15\nC6000       15\nC1250       14\nC8200       11\nC1238       10\nC1278       10\nC1235        9\nC1237        9\nC7210        7\nC2400        6\nC1720        6\nC4100        6\nC1257        5\nC1600        5\nC1260        3\nC2710        3\nC0           3\nC3200        2\nC1234        2\nC1246        2\nC1267        2\nC1256        2\nName: CLASSIFICATION, dtype: int64"
     },
     "execution_count": 49,
     "metadata": {},
     "output_type": "execute_result"
    }
   ],
   "source": [
    "# You may find it helpful to look at CLASSIFICATION value counts >1\n",
    "#  YOUR CODE GOES HERE\n",
    "application_df['CLASSIFICATION'].value_counts().loc[lambda x : x >1]"
   ]
  },
  {
   "cell_type": "code",
   "execution_count": 50,
   "metadata": {},
   "outputs": [
    {
     "data": {
      "text/plain": "C1000    17326\nC2000     6074\nC1200     4837\nOther     2261\nC3000     1918\nC2100     1883\nName: CLASSIFICATION, dtype: int64"
     },
     "execution_count": 50,
     "metadata": {},
     "output_type": "execute_result"
    }
   ],
   "source": [
    "# Choose a cutoff point and create a new column for CLASSIFICATION that shows\n",
    "#  whether or not an organization is considered to be \"other\" based on its classification\n",
    "#  YOUR CODE GOES HERE\n",
    "classification_replace = list(application_df['CLASSIFICATION'].value_counts().loc[lambda x : x < 1000].index)\n",
    "#Replace in dataframe\n",
    "for i in classification_replace:\n",
    "    application_df['CLASSIFICATION'] = application_df['CLASSIFICATION'].replace(i, 'Other')\n",
    "# Check to make sure binning was successful\n",
    "application_df['CLASSIFICATION'].value_counts()"
   ]
  },
  {
   "cell_type": "code",
   "execution_count": 51,
   "metadata": {},
   "outputs": [
    {
     "data": {
      "text/plain": "   STATUS  ASK_AMT  IS_SUCCESSFUL  APPLICATION_TYPE_Other  \\\n0       1     5000              1                       1   \n1       1   108590              1                       0   \n2       1     5000              0                       0   \n3       1     6692              1                       0   \n4       1   142590              1                       0   \n\n   APPLICATION_TYPE_T19  APPLICATION_TYPE_T3  APPLICATION_TYPE_T4  \\\n0                     0                    0                    0   \n1                     0                    1                    0   \n2                     0                    0                    0   \n3                     0                    1                    0   \n4                     0                    1                    0   \n\n   APPLICATION_TYPE_T5  APPLICATION_TYPE_T6  AFFILIATION_CompanySponsored  \\\n0                    0                    0                             0   \n1                    0                    0                             0   \n2                    1                    0                             1   \n3                    0                    0                             1   \n4                    0                    0                             0   \n\n   ...  INCOME_AMT_1-9999  INCOME_AMT_10000-24999  INCOME_AMT_100000-499999  \\\n0  ...                  0                       0                         0   \n1  ...                  1                       0                         0   \n2  ...                  0                       0                         0   \n3  ...                  0                       1                         0   \n4  ...                  0                       0                         1   \n\n   INCOME_AMT_10M-50M  INCOME_AMT_1M-5M  INCOME_AMT_25000-99999  \\\n0                   0                 0                       0   \n1                   0                 0                       0   \n2                   0                 0                       0   \n3                   0                 0                       0   \n4                   0                 0                       0   \n\n   INCOME_AMT_50M+  INCOME_AMT_5M-10M  SPECIAL_CONSIDERATIONS_N  \\\n0                0                  0                         1   \n1                0                  0                         1   \n2                0                  0                         1   \n3                0                  0                         1   \n4                0                  0                         1   \n\n   SPECIAL_CONSIDERATIONS_Y  \n0                         0  \n1                         0  \n2                         0  \n3                         0  \n4                         0  \n\n[5 rows x 41 columns]",
      "text/html": "<div>\n<style scoped>\n    .dataframe tbody tr th:only-of-type {\n        vertical-align: middle;\n    }\n\n    .dataframe tbody tr th {\n        vertical-align: top;\n    }\n\n    .dataframe thead th {\n        text-align: right;\n    }\n</style>\n<table border=\"1\" class=\"dataframe\">\n  <thead>\n    <tr style=\"text-align: right;\">\n      <th></th>\n      <th>STATUS</th>\n      <th>ASK_AMT</th>\n      <th>IS_SUCCESSFUL</th>\n      <th>APPLICATION_TYPE_Other</th>\n      <th>APPLICATION_TYPE_T19</th>\n      <th>APPLICATION_TYPE_T3</th>\n      <th>APPLICATION_TYPE_T4</th>\n      <th>APPLICATION_TYPE_T5</th>\n      <th>APPLICATION_TYPE_T6</th>\n      <th>AFFILIATION_CompanySponsored</th>\n      <th>...</th>\n      <th>INCOME_AMT_1-9999</th>\n      <th>INCOME_AMT_10000-24999</th>\n      <th>INCOME_AMT_100000-499999</th>\n      <th>INCOME_AMT_10M-50M</th>\n      <th>INCOME_AMT_1M-5M</th>\n      <th>INCOME_AMT_25000-99999</th>\n      <th>INCOME_AMT_50M+</th>\n      <th>INCOME_AMT_5M-10M</th>\n      <th>SPECIAL_CONSIDERATIONS_N</th>\n      <th>SPECIAL_CONSIDERATIONS_Y</th>\n    </tr>\n  </thead>\n  <tbody>\n    <tr>\n      <th>0</th>\n      <td>1</td>\n      <td>5000</td>\n      <td>1</td>\n      <td>1</td>\n      <td>0</td>\n      <td>0</td>\n      <td>0</td>\n      <td>0</td>\n      <td>0</td>\n      <td>0</td>\n      <td>...</td>\n      <td>0</td>\n      <td>0</td>\n      <td>0</td>\n      <td>0</td>\n      <td>0</td>\n      <td>0</td>\n      <td>0</td>\n      <td>0</td>\n      <td>1</td>\n      <td>0</td>\n    </tr>\n    <tr>\n      <th>1</th>\n      <td>1</td>\n      <td>108590</td>\n      <td>1</td>\n      <td>0</td>\n      <td>0</td>\n      <td>1</td>\n      <td>0</td>\n      <td>0</td>\n      <td>0</td>\n      <td>0</td>\n      <td>...</td>\n      <td>1</td>\n      <td>0</td>\n      <td>0</td>\n      <td>0</td>\n      <td>0</td>\n      <td>0</td>\n      <td>0</td>\n      <td>0</td>\n      <td>1</td>\n      <td>0</td>\n    </tr>\n    <tr>\n      <th>2</th>\n      <td>1</td>\n      <td>5000</td>\n      <td>0</td>\n      <td>0</td>\n      <td>0</td>\n      <td>0</td>\n      <td>0</td>\n      <td>1</td>\n      <td>0</td>\n      <td>1</td>\n      <td>...</td>\n      <td>0</td>\n      <td>0</td>\n      <td>0</td>\n      <td>0</td>\n      <td>0</td>\n      <td>0</td>\n      <td>0</td>\n      <td>0</td>\n      <td>1</td>\n      <td>0</td>\n    </tr>\n    <tr>\n      <th>3</th>\n      <td>1</td>\n      <td>6692</td>\n      <td>1</td>\n      <td>0</td>\n      <td>0</td>\n      <td>1</td>\n      <td>0</td>\n      <td>0</td>\n      <td>0</td>\n      <td>1</td>\n      <td>...</td>\n      <td>0</td>\n      <td>1</td>\n      <td>0</td>\n      <td>0</td>\n      <td>0</td>\n      <td>0</td>\n      <td>0</td>\n      <td>0</td>\n      <td>1</td>\n      <td>0</td>\n    </tr>\n    <tr>\n      <th>4</th>\n      <td>1</td>\n      <td>142590</td>\n      <td>1</td>\n      <td>0</td>\n      <td>0</td>\n      <td>1</td>\n      <td>0</td>\n      <td>0</td>\n      <td>0</td>\n      <td>0</td>\n      <td>...</td>\n      <td>0</td>\n      <td>0</td>\n      <td>1</td>\n      <td>0</td>\n      <td>0</td>\n      <td>0</td>\n      <td>0</td>\n      <td>0</td>\n      <td>1</td>\n      <td>0</td>\n    </tr>\n  </tbody>\n</table>\n<p>5 rows × 41 columns</p>\n</div>"
     },
     "execution_count": 51,
     "metadata": {},
     "output_type": "execute_result"
    }
   ],
   "source": [
    "# Convert categorical data to numeric with `pd.get_dummies`\n",
    "#  YOUR CODE GOES HERE\n",
    "application_df = pd.get_dummies(application_df)\n",
    "application_df.head()"
   ]
  },
  {
   "cell_type": "code",
   "execution_count": 52,
   "outputs": [],
   "source": [
    "# Split our preprocessed data into our features and target arrays\n",
    "#  YOUR CODE GOES HERE\n",
    "y = application_df['IS_SUCCESSFUL'].values\n",
    "X = application_df.drop(columns=['IS_SUCCESSFUL']).values\n",
    "\n",
    "# Split the preprocessed data into a training and testing dataset\n",
    "#  YOUR CODE GOES HERE\n",
    "X_train, X_test, y_train, y_test = train_test_split(X, y, random_state=78)"
   ],
   "metadata": {
    "collapsed": false
   }
  },
  {
   "cell_type": "code",
   "execution_count": 53,
   "outputs": [],
   "source": [
    "# Create a StandardScaler instance\n",
    "#  YOUR CODE GOES HERE\n",
    "scaler = StandardScaler()\n",
    "\n",
    "# Fit the StandardScaler\n",
    "X_scaler = scaler.fit(X_train)\n",
    "\n",
    "# Scale the data\n",
    "X_train_scaled = X_scaler.transform(X_train)\n",
    "X_test_scaled = X_scaler.transform(X_test)"
   ],
   "metadata": {
    "collapsed": false
   }
  },
  {
   "cell_type": "markdown",
   "source": [
    "## Compile, Train, and Evaluate the Model\n"
   ],
   "metadata": {
    "collapsed": false
   }
  },
  {
   "cell_type": "markdown",
   "source": [
    "## Optimization Attempt 1"
   ],
   "metadata": {
    "collapsed": false
   }
  },
  {
   "cell_type": "code",
   "execution_count": 54,
   "metadata": {},
   "outputs": [
    {
     "name": "stdout",
     "output_type": "stream",
     "text": [
      "Model: \"sequential_1\"\n",
      "_________________________________________________________________\n",
      " Layer (type)                Output Shape              Param #   \n",
      "=================================================================\n",
      " dense_3 (Dense)             (None, 80)                3280      \n",
      "                                                                 \n",
      " dense_4 (Dense)             (None, 30)                2430      \n",
      "                                                                 \n",
      " dense_5 (Dense)             (None, 1)                 31        \n",
      "                                                                 \n",
      "=================================================================\n",
      "Total params: 5,741\n",
      "Trainable params: 5,741\n",
      "Non-trainable params: 0\n",
      "_________________________________________________________________\n"
     ]
    }
   ],
   "source": [
    "# Define the model - deep neural net\n",
    "number_input_features = len(X_train[0])\n",
    "hidden_nodes_layer1 =  80\n",
    "hidden_nodes_layer2 = 30\n",
    "\n",
    "nn = tf.keras.models.Sequential()\n",
    "\n",
    "# First hidden layer\n",
    "nn.add(\n",
    "    tf.keras.layers.Dense(units=hidden_nodes_layer1, input_dim=number_input_features, activation=\"relu\")\n",
    ")\n",
    "\n",
    "# Second hidden layer\n",
    "nn.add(tf.keras.layers.Dense(units=hidden_nodes_layer2, activation=\"relu\"))\n",
    "\n",
    "# Output layer\n",
    "nn.add(tf.keras.layers.Dense(units=1, activation=\"sigmoid\"))\n",
    "\n",
    "# Check the structure of the model\n",
    "nn.summary()"
   ]
  },
  {
   "cell_type": "code",
   "execution_count": 55,
   "metadata": {},
   "outputs": [
    {
     "name": "stdout",
     "output_type": "stream",
     "text": [
      "Epoch 1/100\n",
      "804/804 [==============================] - 1s 418us/step - loss: 0.5734 - accuracy: 0.7214\n",
      "Epoch 2/100\n",
      "804/804 [==============================] - 0s 401us/step - loss: 0.5576 - accuracy: 0.7286\n",
      "Epoch 3/100\n",
      "804/804 [==============================] - 0s 403us/step - loss: 0.5552 - accuracy: 0.7290\n",
      "Epoch 4/100\n",
      "804/804 [==============================] - 0s 449us/step - loss: 0.5533 - accuracy: 0.7312\n",
      "Epoch 5/100\n",
      "804/804 [==============================] - 0s 409us/step - loss: 0.5522 - accuracy: 0.7318\n",
      "Epoch 6/100\n",
      "804/804 [==============================] - 0s 413us/step - loss: 0.5517 - accuracy: 0.7340\n",
      "Epoch 7/100\n",
      "804/804 [==============================] - 0s 398us/step - loss: 0.5511 - accuracy: 0.7327\n",
      "Epoch 8/100\n",
      "804/804 [==============================] - 0s 486us/step - loss: 0.5503 - accuracy: 0.7333\n",
      "Epoch 9/100\n",
      "804/804 [==============================] - 0s 397us/step - loss: 0.5497 - accuracy: 0.7339\n",
      "Epoch 10/100\n",
      "804/804 [==============================] - 0s 434us/step - loss: 0.5494 - accuracy: 0.7344\n",
      "Epoch 11/100\n",
      "804/804 [==============================] - 0s 465us/step - loss: 0.5494 - accuracy: 0.7348\n",
      "Epoch 12/100\n",
      "804/804 [==============================] - 0s 414us/step - loss: 0.5491 - accuracy: 0.7332\n",
      "Epoch 13/100\n",
      "804/804 [==============================] - 0s 387us/step - loss: 0.5483 - accuracy: 0.7351\n",
      "Epoch 14/100\n",
      "804/804 [==============================] - 0s 385us/step - loss: 0.5479 - accuracy: 0.7351\n",
      "Epoch 15/100\n",
      "804/804 [==============================] - 0s 387us/step - loss: 0.5479 - accuracy: 0.7357\n",
      "Epoch 16/100\n",
      "804/804 [==============================] - 0s 387us/step - loss: 0.5476 - accuracy: 0.7354\n",
      "Epoch 17/100\n",
      "804/804 [==============================] - 0s 385us/step - loss: 0.5468 - accuracy: 0.7356\n",
      "Epoch 18/100\n",
      "804/804 [==============================] - 0s 386us/step - loss: 0.5470 - accuracy: 0.7360\n",
      "Epoch 19/100\n",
      "804/804 [==============================] - 0s 386us/step - loss: 0.5467 - accuracy: 0.7351\n",
      "Epoch 20/100\n",
      "804/804 [==============================] - 0s 387us/step - loss: 0.5467 - accuracy: 0.7364\n",
      "Epoch 21/100\n",
      "804/804 [==============================] - 0s 385us/step - loss: 0.5463 - accuracy: 0.7357\n",
      "Epoch 22/100\n",
      "804/804 [==============================] - 0s 382us/step - loss: 0.5467 - accuracy: 0.7371\n",
      "Epoch 23/100\n",
      "804/804 [==============================] - 0s 384us/step - loss: 0.5458 - accuracy: 0.7366\n",
      "Epoch 24/100\n",
      "804/804 [==============================] - 0s 383us/step - loss: 0.5457 - accuracy: 0.7362\n",
      "Epoch 25/100\n",
      "804/804 [==============================] - 0s 390us/step - loss: 0.5456 - accuracy: 0.7368\n",
      "Epoch 26/100\n",
      "804/804 [==============================] - 0s 385us/step - loss: 0.5454 - accuracy: 0.7373\n",
      "Epoch 27/100\n",
      "804/804 [==============================] - 0s 385us/step - loss: 0.5454 - accuracy: 0.7376\n",
      "Epoch 28/100\n",
      "804/804 [==============================] - 0s 385us/step - loss: 0.5456 - accuracy: 0.7366\n",
      "Epoch 29/100\n",
      "804/804 [==============================] - 0s 386us/step - loss: 0.5452 - accuracy: 0.7368\n",
      "Epoch 30/100\n",
      "804/804 [==============================] - 0s 389us/step - loss: 0.5450 - accuracy: 0.7374\n",
      "Epoch 31/100\n",
      "804/804 [==============================] - 0s 385us/step - loss: 0.5447 - accuracy: 0.7381\n",
      "Epoch 32/100\n",
      "804/804 [==============================] - 0s 383us/step - loss: 0.5446 - accuracy: 0.7372\n",
      "Epoch 33/100\n",
      "804/804 [==============================] - 0s 384us/step - loss: 0.5446 - accuracy: 0.7388\n",
      "Epoch 34/100\n",
      "804/804 [==============================] - 0s 387us/step - loss: 0.5442 - accuracy: 0.7376\n",
      "Epoch 35/100\n",
      "804/804 [==============================] - 0s 385us/step - loss: 0.5442 - accuracy: 0.7373\n",
      "Epoch 36/100\n",
      "804/804 [==============================] - 0s 384us/step - loss: 0.5443 - accuracy: 0.7372\n",
      "Epoch 37/100\n",
      "804/804 [==============================] - 0s 385us/step - loss: 0.5441 - accuracy: 0.7375\n",
      "Epoch 38/100\n",
      "804/804 [==============================] - 0s 385us/step - loss: 0.5437 - accuracy: 0.7379\n",
      "Epoch 39/100\n",
      "804/804 [==============================] - 0s 384us/step - loss: 0.5441 - accuracy: 0.7377\n",
      "Epoch 40/100\n",
      "804/804 [==============================] - 0s 390us/step - loss: 0.5442 - accuracy: 0.7386\n",
      "Epoch 41/100\n",
      "804/804 [==============================] - 0s 386us/step - loss: 0.5434 - accuracy: 0.7376\n",
      "Epoch 42/100\n",
      "804/804 [==============================] - 0s 385us/step - loss: 0.5438 - accuracy: 0.7388\n",
      "Epoch 43/100\n",
      "804/804 [==============================] - 0s 386us/step - loss: 0.5435 - accuracy: 0.7381\n",
      "Epoch 44/100\n",
      "804/804 [==============================] - 0s 383us/step - loss: 0.5433 - accuracy: 0.7381\n",
      "Epoch 45/100\n",
      "804/804 [==============================] - 0s 382us/step - loss: 0.5430 - accuracy: 0.7379\n",
      "Epoch 46/100\n",
      "804/804 [==============================] - 0s 383us/step - loss: 0.5435 - accuracy: 0.7381\n",
      "Epoch 47/100\n",
      "804/804 [==============================] - 0s 381us/step - loss: 0.5431 - accuracy: 0.7380\n",
      "Epoch 48/100\n",
      "804/804 [==============================] - 0s 383us/step - loss: 0.5429 - accuracy: 0.7382\n",
      "Epoch 49/100\n",
      "804/804 [==============================] - 0s 390us/step - loss: 0.5428 - accuracy: 0.7385\n",
      "Epoch 50/100\n",
      "804/804 [==============================] - 0s 382us/step - loss: 0.5427 - accuracy: 0.7380\n",
      "Epoch 51/100\n",
      "804/804 [==============================] - 0s 383us/step - loss: 0.5425 - accuracy: 0.7392\n",
      "Epoch 52/100\n",
      "804/804 [==============================] - 0s 383us/step - loss: 0.5431 - accuracy: 0.7385\n",
      "Epoch 53/100\n",
      "804/804 [==============================] - 0s 383us/step - loss: 0.5426 - accuracy: 0.7381\n",
      "Epoch 54/100\n",
      "804/804 [==============================] - 0s 383us/step - loss: 0.5426 - accuracy: 0.7385\n",
      "Epoch 55/100\n",
      "804/804 [==============================] - 0s 383us/step - loss: 0.5423 - accuracy: 0.7385\n",
      "Epoch 56/100\n",
      "804/804 [==============================] - 0s 383us/step - loss: 0.5422 - accuracy: 0.7389\n",
      "Epoch 57/100\n",
      "804/804 [==============================] - 0s 382us/step - loss: 0.5421 - accuracy: 0.7384\n",
      "Epoch 58/100\n",
      "804/804 [==============================] - 0s 382us/step - loss: 0.5423 - accuracy: 0.7383\n",
      "Epoch 59/100\n",
      "804/804 [==============================] - 0s 384us/step - loss: 0.5420 - accuracy: 0.7380\n",
      "Epoch 60/100\n",
      "804/804 [==============================] - 0s 382us/step - loss: 0.5417 - accuracy: 0.7384\n",
      "Epoch 61/100\n",
      "804/804 [==============================] - 0s 383us/step - loss: 0.5423 - accuracy: 0.7386\n",
      "Epoch 62/100\n",
      "804/804 [==============================] - 0s 389us/step - loss: 0.5422 - accuracy: 0.7392\n",
      "Epoch 63/100\n",
      "804/804 [==============================] - 0s 383us/step - loss: 0.5417 - accuracy: 0.7386\n",
      "Epoch 64/100\n",
      "804/804 [==============================] - 0s 383us/step - loss: 0.5418 - accuracy: 0.7389\n",
      "Epoch 65/100\n",
      "804/804 [==============================] - 0s 383us/step - loss: 0.5415 - accuracy: 0.7384\n",
      "Epoch 66/100\n",
      "804/804 [==============================] - 0s 382us/step - loss: 0.5419 - accuracy: 0.7392\n",
      "Epoch 67/100\n",
      "804/804 [==============================] - 0s 381us/step - loss: 0.5413 - accuracy: 0.7388\n",
      "Epoch 68/100\n",
      "804/804 [==============================] - 0s 382us/step - loss: 0.5414 - accuracy: 0.7392\n",
      "Epoch 69/100\n",
      "804/804 [==============================] - 0s 384us/step - loss: 0.5415 - accuracy: 0.7393\n",
      "Epoch 70/100\n",
      "804/804 [==============================] - 0s 384us/step - loss: 0.5416 - accuracy: 0.7385\n",
      "Epoch 71/100\n",
      "804/804 [==============================] - 0s 386us/step - loss: 0.5410 - accuracy: 0.7389\n",
      "Epoch 72/100\n",
      "804/804 [==============================] - 0s 383us/step - loss: 0.5416 - accuracy: 0.7397\n",
      "Epoch 73/100\n",
      "804/804 [==============================] - 0s 382us/step - loss: 0.5411 - accuracy: 0.7401\n",
      "Epoch 74/100\n",
      "804/804 [==============================] - 0s 381us/step - loss: 0.5414 - accuracy: 0.7397\n",
      "Epoch 75/100\n",
      "804/804 [==============================] - 0s 385us/step - loss: 0.5412 - accuracy: 0.7392\n",
      "Epoch 76/100\n",
      "804/804 [==============================] - 0s 383us/step - loss: 0.5412 - accuracy: 0.7395\n",
      "Epoch 77/100\n",
      "804/804 [==============================] - 0s 383us/step - loss: 0.5409 - accuracy: 0.7400\n",
      "Epoch 78/100\n",
      "804/804 [==============================] - 0s 383us/step - loss: 0.5409 - accuracy: 0.7392\n",
      "Epoch 79/100\n",
      "804/804 [==============================] - 0s 381us/step - loss: 0.5414 - accuracy: 0.7391\n",
      "Epoch 80/100\n",
      "804/804 [==============================] - 0s 386us/step - loss: 0.5411 - accuracy: 0.7391\n",
      "Epoch 81/100\n",
      "804/804 [==============================] - 0s 384us/step - loss: 0.5412 - accuracy: 0.7392\n",
      "Epoch 82/100\n",
      "804/804 [==============================] - 0s 386us/step - loss: 0.5404 - accuracy: 0.7397\n",
      "Epoch 83/100\n",
      "804/804 [==============================] - 0s 384us/step - loss: 0.5408 - accuracy: 0.7390\n",
      "Epoch 84/100\n",
      "804/804 [==============================] - 0s 382us/step - loss: 0.5412 - accuracy: 0.7393\n",
      "Epoch 85/100\n",
      "804/804 [==============================] - 0s 383us/step - loss: 0.5409 - accuracy: 0.7397\n",
      "Epoch 86/100\n",
      "804/804 [==============================] - 0s 383us/step - loss: 0.5405 - accuracy: 0.7399\n",
      "Epoch 87/100\n",
      "804/804 [==============================] - 0s 383us/step - loss: 0.5407 - accuracy: 0.7398\n",
      "Epoch 88/100\n",
      "804/804 [==============================] - 0s 384us/step - loss: 0.5408 - accuracy: 0.7393\n",
      "Epoch 89/100\n",
      "804/804 [==============================] - 0s 382us/step - loss: 0.5407 - accuracy: 0.7399\n",
      "Epoch 90/100\n",
      "804/804 [==============================] - 0s 383us/step - loss: 0.5405 - accuracy: 0.7395\n",
      "Epoch 91/100\n",
      "804/804 [==============================] - 0s 384us/step - loss: 0.5407 - accuracy: 0.7398\n",
      "Epoch 92/100\n",
      "804/804 [==============================] - 0s 384us/step - loss: 0.5403 - accuracy: 0.7397\n",
      "Epoch 93/100\n",
      "804/804 [==============================] - 0s 383us/step - loss: 0.5403 - accuracy: 0.7395\n",
      "Epoch 94/100\n",
      "804/804 [==============================] - 0s 383us/step - loss: 0.5406 - accuracy: 0.7386\n",
      "Epoch 95/100\n",
      "804/804 [==============================] - 0s 383us/step - loss: 0.5401 - accuracy: 0.7398\n",
      "Epoch 96/100\n",
      "804/804 [==============================] - 0s 383us/step - loss: 0.5403 - accuracy: 0.7397\n",
      "Epoch 97/100\n",
      "804/804 [==============================] - 0s 381us/step - loss: 0.5398 - accuracy: 0.7393\n",
      "Epoch 98/100\n",
      "804/804 [==============================] - 0s 383us/step - loss: 0.5403 - accuracy: 0.7393\n",
      "Epoch 99/100\n",
      "804/804 [==============================] - 0s 382us/step - loss: 0.5401 - accuracy: 0.7395\n",
      "Epoch 100/100\n",
      "804/804 [==============================] - 0s 382us/step - loss: 0.5403 - accuracy: 0.7396\n"
     ]
    }
   ],
   "source": [
    "# Compile the model\n",
    "nn.compile(loss=\"binary_crossentropy\", optimizer=\"adam\", metrics=[\"accuracy\"])\n",
    "\n",
    "# Train the model\n",
    "fit_model = nn.fit(X_train_scaled, y_train, epochs=100)\n"
   ]
  },
  {
   "cell_type": "code",
   "execution_count": 56,
   "metadata": {},
   "outputs": [
    {
     "name": "stdout",
     "output_type": "stream",
     "text": [
      "268/268 - 0s - loss: 0.5577 - accuracy: 0.7262 - 135ms/epoch - 504us/step\n",
      "Loss: 0.5576605200767517, Accuracy: 0.7261807322502136\n"
     ]
    }
   ],
   "source": [
    "# Evaluate the model using the test data\n",
    "model_loss, model_accuracy = nn.evaluate(X_test_scaled,y_test,verbose=2)\n",
    "print(f\"Loss: {model_loss}, Accuracy: {model_accuracy}\")"
   ]
  },
  {
   "cell_type": "code",
   "execution_count": 57,
   "metadata": {},
   "outputs": [],
   "source": [
    "# Export our model to HDF5 file\n",
    "nn.save(\"AlphabetSoupCharity_Optimization.h5\")"
   ]
  },
  {
   "cell_type": "markdown",
   "metadata": {},
   "source": [
    "## Optimization Attempt 2"
   ]
  },
  {
   "cell_type": "code",
   "execution_count": 58,
   "metadata": {},
   "outputs": [
    {
     "name": "stdout",
     "output_type": "stream",
     "text": [
      "Model: \"sequential_2\"\n",
      "_________________________________________________________________\n",
      " Layer (type)                Output Shape              Param #   \n",
      "=================================================================\n",
      " dense_6 (Dense)             (None, 80)                3280      \n",
      "                                                                 \n",
      " dense_7 (Dense)             (None, 30)                2430      \n",
      "                                                                 \n",
      " dense_8 (Dense)             (None, 10)                310       \n",
      "                                                                 \n",
      " dense_9 (Dense)             (None, 5)                 55        \n",
      "                                                                 \n",
      " dense_10 (Dense)            (None, 2)                 12        \n",
      "                                                                 \n",
      " dense_11 (Dense)            (None, 1)                 3         \n",
      "                                                                 \n",
      "=================================================================\n",
      "Total params: 6,090\n",
      "Trainable params: 6,090\n",
      "Non-trainable params: 0\n",
      "_________________________________________________________________\n"
     ]
    }
   ],
   "source": [
    "# Import the dependencies.\n",
    "\n",
    "nn_2 = tf.keras.models.Sequential()\n",
    "input_dim = len(X_train[0])\n",
    "\n",
    "# First hidden layer\n",
    "nn_2.add(tf.keras.layers.Dense(units=80, input_dim=input_dim, activation=\"relu\"))\n",
    "\n",
    "# Second hidden layer\n",
    "nn_2.add(tf.keras.layers.Dense(units=30, activation=\"relu\"))\n",
    "\n",
    "# Third hidden layer\n",
    "nn_2.add(tf.keras.layers.Dense(units=10, activation=\"relu\"))\n",
    "\n",
    "# Fourth hidden layer\n",
    "nn_2.add(tf.keras.layers.Dense(units=5, activation=\"relu\"))\n",
    "\n",
    "# Fifth hidden layer\n",
    "nn_2.add(tf.keras.layers.Dense(units=2, activation=\"relu\"))\n",
    "\n",
    "# Output layer\n",
    "nn_2.add(tf.keras.layers.Dense(units=1, activation=\"sigmoid\"))\n",
    "\n",
    "# Check the structure of the model\n",
    "nn_2.summary()\n"
   ]
  },
  {
   "cell_type": "code",
   "execution_count": 59,
   "outputs": [
    {
     "name": "stdout",
     "output_type": "stream",
     "text": [
      "Epoch 1/100\n",
      "804/804 [==============================] - 1s 455us/step - loss: 0.6139 - accuracy: 0.7142\n",
      "Epoch 2/100\n",
      "804/804 [==============================] - 0s 445us/step - loss: 0.5822 - accuracy: 0.7292\n",
      "Epoch 3/100\n",
      "804/804 [==============================] - 0s 446us/step - loss: 0.5745 - accuracy: 0.7311\n",
      "Epoch 4/100\n",
      "804/804 [==============================] - 0s 449us/step - loss: 0.5688 - accuracy: 0.7316\n",
      "Epoch 5/100\n",
      "804/804 [==============================] - 0s 444us/step - loss: 0.5635 - accuracy: 0.7305\n",
      "Epoch 6/100\n",
      "804/804 [==============================] - 0s 444us/step - loss: 0.5605 - accuracy: 0.7326\n",
      "Epoch 7/100\n",
      "804/804 [==============================] - 0s 445us/step - loss: 0.5582 - accuracy: 0.7332\n",
      "Epoch 8/100\n",
      "804/804 [==============================] - 0s 445us/step - loss: 0.5574 - accuracy: 0.7325\n",
      "Epoch 9/100\n",
      "804/804 [==============================] - 0s 443us/step - loss: 0.5561 - accuracy: 0.7337\n",
      "Epoch 10/100\n",
      "804/804 [==============================] - 0s 444us/step - loss: 0.5549 - accuracy: 0.7339\n",
      "Epoch 11/100\n",
      "804/804 [==============================] - 0s 462us/step - loss: 0.5536 - accuracy: 0.7344\n",
      "Epoch 12/100\n",
      "804/804 [==============================] - 0s 446us/step - loss: 0.5526 - accuracy: 0.7352\n",
      "Epoch 13/100\n",
      "804/804 [==============================] - 0s 445us/step - loss: 0.5527 - accuracy: 0.7350\n",
      "Epoch 14/100\n",
      "804/804 [==============================] - 0s 443us/step - loss: 0.5518 - accuracy: 0.7357\n",
      "Epoch 15/100\n",
      "804/804 [==============================] - 0s 450us/step - loss: 0.5514 - accuracy: 0.7358\n",
      "Epoch 16/100\n",
      "804/804 [==============================] - 0s 445us/step - loss: 0.5514 - accuracy: 0.7358\n",
      "Epoch 17/100\n",
      "804/804 [==============================] - 0s 444us/step - loss: 0.5506 - accuracy: 0.7375\n",
      "Epoch 18/100\n",
      "804/804 [==============================] - 0s 445us/step - loss: 0.5505 - accuracy: 0.7365\n",
      "Epoch 19/100\n",
      "804/804 [==============================] - 0s 444us/step - loss: 0.5500 - accuracy: 0.7362\n",
      "Epoch 20/100\n",
      "804/804 [==============================] - 0s 462us/step - loss: 0.5497 - accuracy: 0.7363\n",
      "Epoch 21/100\n",
      "804/804 [==============================] - 0s 443us/step - loss: 0.5495 - accuracy: 0.7365\n",
      "Epoch 22/100\n",
      "804/804 [==============================] - 0s 445us/step - loss: 0.5494 - accuracy: 0.7362\n",
      "Epoch 23/100\n",
      "804/804 [==============================] - 0s 444us/step - loss: 0.5481 - accuracy: 0.7371\n",
      "Epoch 24/100\n",
      "804/804 [==============================] - 0s 444us/step - loss: 0.5490 - accuracy: 0.7370\n",
      "Epoch 25/100\n",
      "804/804 [==============================] - 0s 445us/step - loss: 0.5489 - accuracy: 0.7366\n",
      "Epoch 26/100\n",
      "804/804 [==============================] - 0s 448us/step - loss: 0.5491 - accuracy: 0.7360\n",
      "Epoch 27/100\n",
      "804/804 [==============================] - 0s 446us/step - loss: 0.5482 - accuracy: 0.7360\n",
      "Epoch 28/100\n",
      "804/804 [==============================] - 0s 443us/step - loss: 0.5474 - accuracy: 0.7377\n",
      "Epoch 29/100\n",
      "804/804 [==============================] - 0s 445us/step - loss: 0.5472 - accuracy: 0.7372\n",
      "Epoch 30/100\n",
      "804/804 [==============================] - 0s 444us/step - loss: 0.5467 - accuracy: 0.7373\n",
      "Epoch 31/100\n",
      "804/804 [==============================] - 0s 446us/step - loss: 0.5475 - accuracy: 0.7372\n",
      "Epoch 32/100\n",
      "804/804 [==============================] - 0s 446us/step - loss: 0.5469 - accuracy: 0.7367\n",
      "Epoch 33/100\n",
      "804/804 [==============================] - 0s 445us/step - loss: 0.5481 - accuracy: 0.7360\n",
      "Epoch 34/100\n",
      "804/804 [==============================] - 0s 444us/step - loss: 0.5466 - accuracy: 0.7375\n",
      "Epoch 35/100\n",
      "804/804 [==============================] - 0s 445us/step - loss: 0.5468 - accuracy: 0.7370\n",
      "Epoch 36/100\n",
      "804/804 [==============================] - 0s 445us/step - loss: 0.5463 - accuracy: 0.7367\n",
      "Epoch 37/100\n",
      "804/804 [==============================] - 0s 446us/step - loss: 0.5463 - accuracy: 0.7371\n",
      "Epoch 38/100\n",
      "804/804 [==============================] - 0s 444us/step - loss: 0.5462 - accuracy: 0.7366\n",
      "Epoch 39/100\n",
      "804/804 [==============================] - 0s 445us/step - loss: 0.5464 - accuracy: 0.7376\n",
      "Epoch 40/100\n",
      "804/804 [==============================] - 0s 446us/step - loss: 0.5454 - accuracy: 0.7372\n",
      "Epoch 41/100\n",
      "804/804 [==============================] - 0s 445us/step - loss: 0.5459 - accuracy: 0.7374\n",
      "Epoch 42/100\n",
      "804/804 [==============================] - 0s 446us/step - loss: 0.5453 - accuracy: 0.7383\n",
      "Epoch 43/100\n",
      "804/804 [==============================] - 0s 447us/step - loss: 0.5453 - accuracy: 0.7392\n",
      "Epoch 44/100\n",
      "804/804 [==============================] - 0s 444us/step - loss: 0.5449 - accuracy: 0.7376\n",
      "Epoch 45/100\n",
      "804/804 [==============================] - 0s 443us/step - loss: 0.5452 - accuracy: 0.7376\n",
      "Epoch 46/100\n",
      "804/804 [==============================] - 0s 445us/step - loss: 0.5454 - accuracy: 0.7372\n",
      "Epoch 47/100\n",
      "804/804 [==============================] - 0s 447us/step - loss: 0.5442 - accuracy: 0.7385\n",
      "Epoch 48/100\n",
      "804/804 [==============================] - 0s 454us/step - loss: 0.5444 - accuracy: 0.7383\n",
      "Epoch 49/100\n",
      "804/804 [==============================] - 0s 445us/step - loss: 0.5436 - accuracy: 0.7397\n",
      "Epoch 50/100\n",
      "804/804 [==============================] - 0s 446us/step - loss: 0.5441 - accuracy: 0.7384\n",
      "Epoch 51/100\n",
      "804/804 [==============================] - 0s 444us/step - loss: 0.5444 - accuracy: 0.7371\n",
      "Epoch 52/100\n",
      "804/804 [==============================] - 0s 445us/step - loss: 0.5435 - accuracy: 0.7382\n",
      "Epoch 53/100\n",
      "804/804 [==============================] - 0s 445us/step - loss: 0.5436 - accuracy: 0.7374\n",
      "Epoch 54/100\n",
      "804/804 [==============================] - 0s 445us/step - loss: 0.5441 - accuracy: 0.7385\n",
      "Epoch 55/100\n",
      "804/804 [==============================] - 0s 446us/step - loss: 0.5432 - accuracy: 0.7385\n",
      "Epoch 56/100\n",
      "804/804 [==============================] - 0s 446us/step - loss: 0.5434 - accuracy: 0.7382\n",
      "Epoch 57/100\n",
      "804/804 [==============================] - 0s 444us/step - loss: 0.5434 - accuracy: 0.7387\n",
      "Epoch 58/100\n",
      "804/804 [==============================] - 0s 443us/step - loss: 0.5433 - accuracy: 0.7385\n",
      "Epoch 59/100\n",
      "804/804 [==============================] - 0s 446us/step - loss: 0.5434 - accuracy: 0.7377\n",
      "Epoch 60/100\n",
      "804/804 [==============================] - 0s 445us/step - loss: 0.5429 - accuracy: 0.7392\n",
      "Epoch 61/100\n",
      "804/804 [==============================] - 0s 444us/step - loss: 0.5426 - accuracy: 0.7389\n",
      "Epoch 62/100\n",
      "804/804 [==============================] - 0s 445us/step - loss: 0.5432 - accuracy: 0.7385\n",
      "Epoch 63/100\n",
      "804/804 [==============================] - 0s 445us/step - loss: 0.5430 - accuracy: 0.7377\n",
      "Epoch 64/100\n",
      "804/804 [==============================] - 0s 444us/step - loss: 0.5422 - accuracy: 0.7400\n",
      "Epoch 65/100\n",
      "804/804 [==============================] - 0s 445us/step - loss: 0.5427 - accuracy: 0.7388\n",
      "Epoch 66/100\n",
      "804/804 [==============================] - 0s 444us/step - loss: 0.5427 - accuracy: 0.7389\n",
      "Epoch 67/100\n",
      "804/804 [==============================] - 0s 446us/step - loss: 0.5427 - accuracy: 0.7383\n",
      "Epoch 68/100\n",
      "804/804 [==============================] - 0s 446us/step - loss: 0.5428 - accuracy: 0.7388\n",
      "Epoch 69/100\n",
      "804/804 [==============================] - 0s 445us/step - loss: 0.5422 - accuracy: 0.7391\n",
      "Epoch 70/100\n",
      "804/804 [==============================] - 0s 445us/step - loss: 0.5420 - accuracy: 0.7401\n",
      "Epoch 71/100\n",
      "804/804 [==============================] - 0s 446us/step - loss: 0.5419 - accuracy: 0.7392\n",
      "Epoch 72/100\n",
      "804/804 [==============================] - 0s 450us/step - loss: 0.5420 - accuracy: 0.7398\n",
      "Epoch 73/100\n",
      "804/804 [==============================] - 0s 451us/step - loss: 0.5426 - accuracy: 0.7382\n",
      "Epoch 74/100\n",
      "804/804 [==============================] - 0s 444us/step - loss: 0.5419 - accuracy: 0.7399\n",
      "Epoch 75/100\n",
      "804/804 [==============================] - 0s 445us/step - loss: 0.5419 - accuracy: 0.7397\n",
      "Epoch 76/100\n",
      "804/804 [==============================] - 0s 445us/step - loss: 0.5416 - accuracy: 0.7394\n",
      "Epoch 77/100\n",
      "804/804 [==============================] - 0s 444us/step - loss: 0.5418 - accuracy: 0.7393\n",
      "Epoch 78/100\n",
      "804/804 [==============================] - 0s 445us/step - loss: 0.5418 - accuracy: 0.7395\n",
      "Epoch 79/100\n",
      "804/804 [==============================] - 0s 445us/step - loss: 0.5419 - accuracy: 0.7395\n",
      "Epoch 80/100\n",
      "804/804 [==============================] - 0s 445us/step - loss: 0.5417 - accuracy: 0.7391\n",
      "Epoch 81/100\n",
      "804/804 [==============================] - 0s 444us/step - loss: 0.5417 - accuracy: 0.7389\n",
      "Epoch 82/100\n",
      "804/804 [==============================] - 0s 446us/step - loss: 0.5415 - accuracy: 0.7398\n",
      "Epoch 83/100\n",
      "804/804 [==============================] - 0s 444us/step - loss: 0.5417 - accuracy: 0.7389\n",
      "Epoch 84/100\n",
      "804/804 [==============================] - 0s 445us/step - loss: 0.5416 - accuracy: 0.7398\n",
      "Epoch 85/100\n",
      "804/804 [==============================] - 0s 450us/step - loss: 0.5409 - accuracy: 0.7396\n",
      "Epoch 86/100\n",
      "804/804 [==============================] - 0s 445us/step - loss: 0.5409 - accuracy: 0.7395\n",
      "Epoch 87/100\n",
      "804/804 [==============================] - 0s 445us/step - loss: 0.5413 - accuracy: 0.7392\n",
      "Epoch 88/100\n",
      "804/804 [==============================] - 0s 447us/step - loss: 0.5415 - accuracy: 0.7390\n",
      "Epoch 89/100\n",
      "804/804 [==============================] - 0s 445us/step - loss: 0.5414 - accuracy: 0.7394\n",
      "Epoch 90/100\n",
      "804/804 [==============================] - 0s 445us/step - loss: 0.5405 - accuracy: 0.7393\n",
      "Epoch 91/100\n",
      "804/804 [==============================] - 0s 446us/step - loss: 0.5404 - accuracy: 0.7399\n",
      "Epoch 92/100\n",
      "804/804 [==============================] - 0s 444us/step - loss: 0.5410 - accuracy: 0.7394\n",
      "Epoch 93/100\n",
      "804/804 [==============================] - 0s 445us/step - loss: 0.5408 - accuracy: 0.7399\n",
      "Epoch 94/100\n",
      "804/804 [==============================] - 0s 446us/step - loss: 0.5404 - accuracy: 0.7393\n",
      "Epoch 95/100\n",
      "804/804 [==============================] - 0s 445us/step - loss: 0.5407 - accuracy: 0.7398\n",
      "Epoch 96/100\n",
      "804/804 [==============================] - 0s 445us/step - loss: 0.5409 - accuracy: 0.7397\n",
      "Epoch 97/100\n",
      "804/804 [==============================] - 0s 444us/step - loss: 0.5408 - accuracy: 0.7397\n",
      "Epoch 98/100\n",
      "804/804 [==============================] - 0s 445us/step - loss: 0.5401 - accuracy: 0.7406\n",
      "Epoch 99/100\n",
      "804/804 [==============================] - 0s 446us/step - loss: 0.5407 - accuracy: 0.7404\n",
      "Epoch 100/100\n",
      "804/804 [==============================] - 0s 444us/step - loss: 0.5403 - accuracy: 0.7399\n"
     ]
    }
   ],
   "source": [
    "# Compile the model\n",
    "nn_2.compile(loss=\"binary_crossentropy\", optimizer=\"adam\", metrics=[\"accuracy\"])\n",
    "\n",
    "# Train the model\n",
    "fit_model = nn_2.fit(X_train_scaled, y_train, epochs=100)"
   ],
   "metadata": {
    "collapsed": false
   }
  },
  {
   "cell_type": "code",
   "execution_count": 60,
   "outputs": [
    {
     "name": "stdout",
     "output_type": "stream",
     "text": [
      "268/268 - 0s - loss: 0.5628 - accuracy: 0.7249 - 145ms/epoch - 542us/step\n",
      "Loss: 0.5627623796463013, Accuracy: 0.7248979806900024\n"
     ]
    }
   ],
   "source": [
    "# Evaluate the model using the test data\n",
    "model_loss, model_accuracy = nn_2.evaluate(X_test_scaled,y_test,verbose=2)\n",
    "print(f\"Loss: {model_loss}, Accuracy: {model_accuracy}\")"
   ],
   "metadata": {
    "collapsed": false
   }
  },
  {
   "cell_type": "code",
   "execution_count": 61,
   "outputs": [],
   "source": [
    "# Export our model to HDF5 file\n",
    "nn_2.save(\"AlphabetSoupCharity_Optimization_2.h5\")"
   ],
   "metadata": {
    "collapsed": false
   }
  },
  {
   "cell_type": "markdown",
   "source": [
    "## Optimization Attempt 3"
   ],
   "metadata": {
    "collapsed": false
   }
  },
  {
   "cell_type": "code",
   "execution_count": 62,
   "metadata": {},
   "outputs": [
    {
     "name": "stdout",
     "output_type": "stream",
     "text": [
      "Model: \"sequential_3\"\n",
      "_________________________________________________________________\n",
      " Layer (type)                Output Shape              Param #   \n",
      "=================================================================\n",
      " dense_12 (Dense)            (None, 24)                984       \n",
      "                                                                 \n",
      " dense_13 (Dense)            (None, 12)                300       \n",
      "                                                                 \n",
      " dense_14 (Dense)            (None, 6)                 78        \n",
      "                                                                 \n",
      " dense_15 (Dense)            (None, 3)                 21        \n",
      "                                                                 \n",
      " dense_16 (Dense)            (None, 2)                 8         \n",
      "                                                                 \n",
      " dense_17 (Dense)            (None, 1)                 3         \n",
      "                                                                 \n",
      " dense_18 (Dense)            (None, 1)                 2         \n",
      "                                                                 \n",
      "=================================================================\n",
      "Total params: 1,396\n",
      "Trainable params: 1,396\n",
      "Non-trainable params: 0\n",
      "_________________________________________________________________\n"
     ]
    }
   ],
   "source": [
    "# Define the model - deep neural net\n",
    "nn_3 = tf.keras.models.Sequential()\n",
    "input_dim = len(X_train[0])\n",
    "\n",
    "# input layer\n",
    "nn_3.add(tf.keras.layers.Dense(units=24, input_dim=input_dim, activation=\"relu\"))\n",
    "\n",
    "# First hidden layer\n",
    "nn_3.add(tf.keras.layers.Dense(units=12, activation=\"relu\"))\n",
    "\n",
    "# Second hidden layer\n",
    "nn_3.add(tf.keras.layers.Dense(units=6, activation=\"relu\"))\n",
    "\n",
    "# Third hidden layer\n",
    "nn_3.add(tf.keras.layers.Dense(units=3, activation=\"relu\"))\n",
    "\n",
    "# Fourth hidden layer\n",
    "nn_3.add(tf.keras.layers.Dense(units=2, activation=\"relu\"))\n",
    "\n",
    "# Fifth hidden layer\n",
    "nn_3.add(tf.keras.layers.Dense(units=1, activation=\"relu\"))\n",
    "\n",
    "# Output layer\n",
    "nn_3.add(tf.keras.layers.Dense(units=1, activation=\"sigmoid\"))\n",
    "\n",
    "# Check the structure of the model\n",
    "nn_3.summary()"
   ]
  },
  {
   "cell_type": "code",
   "execution_count": 63,
   "outputs": [
    {
     "name": "stdout",
     "output_type": "stream",
     "text": [
      "Epoch 1/100\n",
      "804/804 [==============================] - 1s 454us/step - loss: 0.6916 - accuracy: 0.5313\n",
      "Epoch 2/100\n",
      "804/804 [==============================] - 0s 447us/step - loss: 0.6911 - accuracy: 0.5321\n",
      "Epoch 3/100\n",
      "804/804 [==============================] - 0s 445us/step - loss: 0.6911 - accuracy: 0.5321\n",
      "Epoch 4/100\n",
      "804/804 [==============================] - 0s 447us/step - loss: 0.6911 - accuracy: 0.5321\n",
      "Epoch 5/100\n",
      "804/804 [==============================] - 0s 447us/step - loss: 0.6911 - accuracy: 0.5321\n",
      "Epoch 6/100\n",
      "804/804 [==============================] - 0s 445us/step - loss: 0.6911 - accuracy: 0.5321\n",
      "Epoch 7/100\n",
      "804/804 [==============================] - 0s 445us/step - loss: 0.6911 - accuracy: 0.5321\n",
      "Epoch 8/100\n",
      "804/804 [==============================] - 0s 445us/step - loss: 0.6911 - accuracy: 0.5321\n",
      "Epoch 9/100\n",
      "804/804 [==============================] - 0s 446us/step - loss: 0.6911 - accuracy: 0.5321\n",
      "Epoch 10/100\n",
      "804/804 [==============================] - 0s 444us/step - loss: 0.6911 - accuracy: 0.5321\n",
      "Epoch 11/100\n",
      "804/804 [==============================] - 0s 444us/step - loss: 0.6911 - accuracy: 0.5321\n",
      "Epoch 12/100\n",
      "804/804 [==============================] - 0s 445us/step - loss: 0.6911 - accuracy: 0.5321\n",
      "Epoch 13/100\n",
      "804/804 [==============================] - 0s 446us/step - loss: 0.6911 - accuracy: 0.5321\n",
      "Epoch 14/100\n",
      "804/804 [==============================] - 0s 444us/step - loss: 0.6911 - accuracy: 0.5321\n",
      "Epoch 15/100\n",
      "804/804 [==============================] - 0s 445us/step - loss: 0.6911 - accuracy: 0.5321\n",
      "Epoch 16/100\n",
      "804/804 [==============================] - 0s 445us/step - loss: 0.6911 - accuracy: 0.5321\n",
      "Epoch 17/100\n",
      "804/804 [==============================] - 0s 444us/step - loss: 0.6911 - accuracy: 0.5321\n",
      "Epoch 18/100\n",
      "804/804 [==============================] - 0s 444us/step - loss: 0.6911 - accuracy: 0.5321\n",
      "Epoch 19/100\n",
      "804/804 [==============================] - 0s 444us/step - loss: 0.6911 - accuracy: 0.5321\n",
      "Epoch 20/100\n",
      "804/804 [==============================] - 0s 445us/step - loss: 0.6911 - accuracy: 0.5321\n",
      "Epoch 21/100\n",
      "804/804 [==============================] - 0s 444us/step - loss: 0.6911 - accuracy: 0.5321\n",
      "Epoch 22/100\n",
      "804/804 [==============================] - 0s 444us/step - loss: 0.6911 - accuracy: 0.5321\n",
      "Epoch 23/100\n",
      "804/804 [==============================] - 0s 444us/step - loss: 0.6911 - accuracy: 0.5321\n",
      "Epoch 24/100\n",
      "804/804 [==============================] - 0s 448us/step - loss: 0.6911 - accuracy: 0.5321\n",
      "Epoch 25/100\n",
      "804/804 [==============================] - 0s 445us/step - loss: 0.6911 - accuracy: 0.5321\n",
      "Epoch 26/100\n",
      "804/804 [==============================] - 0s 444us/step - loss: 0.6911 - accuracy: 0.5321\n",
      "Epoch 27/100\n",
      "804/804 [==============================] - 0s 443us/step - loss: 0.6911 - accuracy: 0.5321\n",
      "Epoch 28/100\n",
      "804/804 [==============================] - 0s 445us/step - loss: 0.6911 - accuracy: 0.5321\n",
      "Epoch 29/100\n",
      "804/804 [==============================] - 0s 443us/step - loss: 0.6911 - accuracy: 0.5321\n",
      "Epoch 30/100\n",
      "804/804 [==============================] - 0s 451us/step - loss: 0.6911 - accuracy: 0.5321\n",
      "Epoch 31/100\n",
      "804/804 [==============================] - 0s 445us/step - loss: 0.6911 - accuracy: 0.5321\n",
      "Epoch 32/100\n",
      "804/804 [==============================] - 0s 445us/step - loss: 0.6911 - accuracy: 0.5321\n",
      "Epoch 33/100\n",
      "804/804 [==============================] - 0s 446us/step - loss: 0.6911 - accuracy: 0.5321\n",
      "Epoch 34/100\n",
      "804/804 [==============================] - 0s 446us/step - loss: 0.6911 - accuracy: 0.5321\n",
      "Epoch 35/100\n",
      "804/804 [==============================] - 0s 446us/step - loss: 0.6911 - accuracy: 0.5321\n",
      "Epoch 36/100\n",
      "804/804 [==============================] - 0s 446us/step - loss: 0.6911 - accuracy: 0.5321\n",
      "Epoch 37/100\n",
      "804/804 [==============================] - 0s 446us/step - loss: 0.6911 - accuracy: 0.5321\n",
      "Epoch 38/100\n",
      "804/804 [==============================] - 0s 447us/step - loss: 0.6911 - accuracy: 0.5321\n",
      "Epoch 39/100\n",
      "804/804 [==============================] - 0s 445us/step - loss: 0.6911 - accuracy: 0.5321\n",
      "Epoch 40/100\n",
      "804/804 [==============================] - 0s 445us/step - loss: 0.6911 - accuracy: 0.5321\n",
      "Epoch 41/100\n",
      "804/804 [==============================] - 0s 447us/step - loss: 0.6911 - accuracy: 0.5321\n",
      "Epoch 42/100\n",
      "804/804 [==============================] - 0s 444us/step - loss: 0.6911 - accuracy: 0.5321\n",
      "Epoch 43/100\n",
      "804/804 [==============================] - 0s 515us/step - loss: 0.6911 - accuracy: 0.5321\n",
      "Epoch 44/100\n",
      "804/804 [==============================] - 0s 448us/step - loss: 0.6911 - accuracy: 0.5321\n",
      "Epoch 45/100\n",
      "804/804 [==============================] - 0s 445us/step - loss: 0.6911 - accuracy: 0.5321\n",
      "Epoch 46/100\n",
      "804/804 [==============================] - 0s 445us/step - loss: 0.6911 - accuracy: 0.5321\n",
      "Epoch 47/100\n",
      "804/804 [==============================] - 0s 444us/step - loss: 0.6911 - accuracy: 0.5321\n",
      "Epoch 48/100\n",
      "804/804 [==============================] - 0s 445us/step - loss: 0.6911 - accuracy: 0.5321\n",
      "Epoch 49/100\n",
      "804/804 [==============================] - 0s 447us/step - loss: 0.6911 - accuracy: 0.5321\n",
      "Epoch 50/100\n",
      "804/804 [==============================] - 0s 446us/step - loss: 0.6911 - accuracy: 0.5321\n",
      "Epoch 51/100\n",
      "804/804 [==============================] - 0s 444us/step - loss: 0.6911 - accuracy: 0.5321\n",
      "Epoch 52/100\n",
      "804/804 [==============================] - 0s 445us/step - loss: 0.6911 - accuracy: 0.5321\n",
      "Epoch 53/100\n",
      "804/804 [==============================] - 0s 446us/step - loss: 0.6911 - accuracy: 0.5321\n",
      "Epoch 54/100\n",
      "804/804 [==============================] - 0s 445us/step - loss: 0.6911 - accuracy: 0.5321\n",
      "Epoch 55/100\n",
      "804/804 [==============================] - 0s 446us/step - loss: 0.6911 - accuracy: 0.5321\n",
      "Epoch 56/100\n",
      "804/804 [==============================] - 0s 444us/step - loss: 0.6911 - accuracy: 0.5321\n",
      "Epoch 57/100\n",
      "804/804 [==============================] - 0s 443us/step - loss: 0.6911 - accuracy: 0.5321\n",
      "Epoch 58/100\n",
      "804/804 [==============================] - 0s 442us/step - loss: 0.6911 - accuracy: 0.5321\n",
      "Epoch 59/100\n",
      "804/804 [==============================] - 0s 443us/step - loss: 0.6911 - accuracy: 0.5321\n",
      "Epoch 60/100\n",
      "804/804 [==============================] - 0s 443us/step - loss: 0.6911 - accuracy: 0.5321\n",
      "Epoch 61/100\n",
      "804/804 [==============================] - 0s 444us/step - loss: 0.6911 - accuracy: 0.5321\n",
      "Epoch 62/100\n",
      "804/804 [==============================] - 0s 446us/step - loss: 0.6911 - accuracy: 0.5321\n",
      "Epoch 63/100\n",
      "804/804 [==============================] - 0s 444us/step - loss: 0.6911 - accuracy: 0.5321\n",
      "Epoch 64/100\n",
      "804/804 [==============================] - 0s 445us/step - loss: 0.6911 - accuracy: 0.5321\n",
      "Epoch 65/100\n",
      "804/804 [==============================] - 0s 446us/step - loss: 0.6911 - accuracy: 0.5321\n",
      "Epoch 66/100\n",
      "804/804 [==============================] - 0s 446us/step - loss: 0.6911 - accuracy: 0.5321\n",
      "Epoch 67/100\n",
      "804/804 [==============================] - 0s 445us/step - loss: 0.6911 - accuracy: 0.5321\n",
      "Epoch 68/100\n",
      "804/804 [==============================] - 0s 444us/step - loss: 0.6911 - accuracy: 0.5321\n",
      "Epoch 69/100\n",
      "804/804 [==============================] - 0s 444us/step - loss: 0.6911 - accuracy: 0.5321\n",
      "Epoch 70/100\n",
      "804/804 [==============================] - 0s 443us/step - loss: 0.6911 - accuracy: 0.5321\n",
      "Epoch 71/100\n",
      "804/804 [==============================] - 0s 449us/step - loss: 0.6911 - accuracy: 0.5321\n",
      "Epoch 72/100\n",
      "804/804 [==============================] - 0s 445us/step - loss: 0.6911 - accuracy: 0.5321\n",
      "Epoch 73/100\n",
      "804/804 [==============================] - 0s 442us/step - loss: 0.6911 - accuracy: 0.5321\n",
      "Epoch 74/100\n",
      "804/804 [==============================] - 0s 444us/step - loss: 0.6911 - accuracy: 0.5321\n",
      "Epoch 75/100\n",
      "804/804 [==============================] - 0s 444us/step - loss: 0.6911 - accuracy: 0.5321\n",
      "Epoch 76/100\n",
      "804/804 [==============================] - 0s 449us/step - loss: 0.6911 - accuracy: 0.5321\n",
      "Epoch 77/100\n",
      "804/804 [==============================] - 0s 443us/step - loss: 0.6911 - accuracy: 0.5321\n",
      "Epoch 78/100\n",
      "804/804 [==============================] - 0s 444us/step - loss: 0.6911 - accuracy: 0.5321\n",
      "Epoch 79/100\n",
      "804/804 [==============================] - 0s 443us/step - loss: 0.6911 - accuracy: 0.5321\n",
      "Epoch 80/100\n",
      "804/804 [==============================] - 0s 443us/step - loss: 0.6911 - accuracy: 0.5321\n",
      "Epoch 81/100\n",
      "804/804 [==============================] - 0s 444us/step - loss: 0.6911 - accuracy: 0.5321\n",
      "Epoch 82/100\n",
      "804/804 [==============================] - 0s 441us/step - loss: 0.6911 - accuracy: 0.5321\n",
      "Epoch 83/100\n",
      "804/804 [==============================] - 0s 443us/step - loss: 0.6911 - accuracy: 0.5321\n",
      "Epoch 84/100\n",
      "804/804 [==============================] - 0s 442us/step - loss: 0.6911 - accuracy: 0.5321\n",
      "Epoch 85/100\n",
      "804/804 [==============================] - 0s 443us/step - loss: 0.6911 - accuracy: 0.5321\n",
      "Epoch 86/100\n",
      "804/804 [==============================] - 0s 442us/step - loss: 0.6911 - accuracy: 0.5321\n",
      "Epoch 87/100\n",
      "804/804 [==============================] - 0s 440us/step - loss: 0.6911 - accuracy: 0.5321\n",
      "Epoch 88/100\n",
      "804/804 [==============================] - 0s 437us/step - loss: 0.6911 - accuracy: 0.5321\n",
      "Epoch 89/100\n",
      "804/804 [==============================] - 0s 440us/step - loss: 0.6911 - accuracy: 0.5321\n",
      "Epoch 90/100\n",
      "804/804 [==============================] - 0s 442us/step - loss: 0.6911 - accuracy: 0.5321\n",
      "Epoch 91/100\n",
      "804/804 [==============================] - 0s 440us/step - loss: 0.6911 - accuracy: 0.5321\n",
      "Epoch 92/100\n",
      "804/804 [==============================] - 0s 443us/step - loss: 0.6911 - accuracy: 0.5321\n",
      "Epoch 93/100\n",
      "804/804 [==============================] - 0s 440us/step - loss: 0.6911 - accuracy: 0.5321\n",
      "Epoch 94/100\n",
      "804/804 [==============================] - 0s 442us/step - loss: 0.6911 - accuracy: 0.5321\n",
      "Epoch 95/100\n",
      "804/804 [==============================] - 0s 445us/step - loss: 0.6911 - accuracy: 0.5321\n",
      "Epoch 96/100\n",
      "804/804 [==============================] - 0s 443us/step - loss: 0.6911 - accuracy: 0.5321\n",
      "Epoch 97/100\n",
      "804/804 [==============================] - 0s 446us/step - loss: 0.6911 - accuracy: 0.5321\n",
      "Epoch 98/100\n",
      "804/804 [==============================] - 0s 443us/step - loss: 0.6911 - accuracy: 0.5321\n",
      "Epoch 99/100\n",
      "804/804 [==============================] - 0s 443us/step - loss: 0.6911 - accuracy: 0.5321\n",
      "Epoch 100/100\n",
      "804/804 [==============================] - 0s 443us/step - loss: 0.6911 - accuracy: 0.5321\n"
     ]
    }
   ],
   "source": [
    "# Compile the model\n",
    "nn_3.compile(loss=\"binary_crossentropy\", optimizer=\"adam\", metrics=[\"accuracy\"])\n",
    "\n",
    "# Train the model\n",
    "fit_model = nn_3.fit(X_train_scaled, y_train, epochs=100)"
   ],
   "metadata": {
    "collapsed": false
   }
  },
  {
   "cell_type": "code",
   "execution_count": 64,
   "outputs": [
    {
     "name": "stdout",
     "output_type": "stream",
     "text": [
      "268/268 - 0s - loss: 0.6909 - accuracy: 0.5332 - 150ms/epoch - 559us/step\n",
      "Loss: 0.6909462809562683, Accuracy: 0.5331778526306152\n"
     ]
    }
   ],
   "source": [
    "# Evaluate the model using the test data\n",
    "model_loss, model_accuracy = nn_3.evaluate(X_test_scaled,y_test,verbose=2)\n",
    "print(f\"Loss: {model_loss}, Accuracy: {model_accuracy}\")\n"
   ],
   "metadata": {
    "collapsed": false
   }
  },
  {
   "cell_type": "code",
   "execution_count": 65,
   "outputs": [],
   "source": [
    "# Export our model to HDF5 file\n",
    "nn_3.save(\"AlphabetSoupCharity_Optimization_3.h5\")"
   ],
   "metadata": {
    "collapsed": false
   }
  },
  {
   "cell_type": "markdown",
   "source": [
    "## Auto Optimization"
   ],
   "metadata": {
    "collapsed": false
   }
  },
  {
   "cell_type": "code",
   "execution_count": 68,
   "metadata": {},
   "outputs": [],
   "source": [
    "# Create a method that creates a new model with different hyperparameters options\n",
    "\n",
    "import keras\n",
    "\n",
    "def build_model(hp):\n",
    "    model = keras.Sequential()\n",
    "    model.add(keras.layers.Dense(\n",
    "        units=hp.Int('units',\n",
    "                     min_value=32,\n",
    "                     max_value=512,\n",
    "                     step=32),\n",
    "        activation='relu',\n",
    "        input_dim=43))\n",
    "    model.add(keras.layers.Dense(1, activation='sigmoid'))\n",
    "\n",
    "    model.compile(\n",
    "        optimizer=keras.optimizers.Adam(\n",
    "            hp.Choice('learning_rate',\n",
    "                      values=[1e-2, 1e-3, 1e-4])),\n",
    "        loss='binary_crossentropy',\n",
    "        metrics=['accuracy'])\n",
    "\n",
    "    return model"
   ]
  },
  {
   "cell_type": "code",
   "execution_count": 69,
   "outputs": [
    {
     "name": "stdout",
     "output_type": "stream",
     "text": [
      "\n",
      "Search: Running Trial #1\n",
      "\n",
      "Value             |Best Value So Far |Hyperparameter\n",
      "32                |?                 |units\n",
      "0.001             |?                 |learning_rate\n",
      "2                 |?                 |tuner/epochs\n",
      "0                 |?                 |tuner/initial_epoch\n",
      "2                 |?                 |tuner/bracket\n",
      "0                 |?                 |tuner/round\n",
      "\n",
      "Epoch 1/2\n"
     ]
    },
    {
     "ename": "ValueError",
     "evalue": "in user code:\n\n    File \"/Users/siyuanliang/BootCamp_University/Deep_Learning/21-Deep-Learning/venv/lib/python3.9/site-packages/keras/engine/training.py\", line 1249, in train_function  *\n        return step_function(self, iterator)\n    File \"/Users/siyuanliang/BootCamp_University/Deep_Learning/21-Deep-Learning/venv/lib/python3.9/site-packages/keras/engine/training.py\", line 1233, in step_function  **\n        outputs = model.distribute_strategy.run(run_step, args=(data,))\n    File \"/Users/siyuanliang/BootCamp_University/Deep_Learning/21-Deep-Learning/venv/lib/python3.9/site-packages/keras/engine/training.py\", line 1222, in run_step  **\n        outputs = model.train_step(data)\n    File \"/Users/siyuanliang/BootCamp_University/Deep_Learning/21-Deep-Learning/venv/lib/python3.9/site-packages/keras/engine/training.py\", line 1023, in train_step\n        y_pred = self(x, training=True)\n    File \"/Users/siyuanliang/BootCamp_University/Deep_Learning/21-Deep-Learning/venv/lib/python3.9/site-packages/keras/utils/traceback_utils.py\", line 70, in error_handler\n        raise e.with_traceback(filtered_tb) from None\n    File \"/Users/siyuanliang/BootCamp_University/Deep_Learning/21-Deep-Learning/venv/lib/python3.9/site-packages/keras/engine/input_spec.py\", line 295, in assert_input_compatibility\n        raise ValueError(\n\n    ValueError: Input 0 of layer \"sequential\" is incompatible with the layer: expected shape=(None, 43), found shape=(None, 40)\n",
     "output_type": "error",
     "traceback": [
      "\u001B[0;31m---------------------------------------------------------------------------\u001B[0m",
      "\u001B[0;31mValueError\u001B[0m                                Traceback (most recent call last)",
      "Cell \u001B[0;32mIn[69], line 13\u001B[0m\n\u001B[1;32m      4\u001B[0m tuner \u001B[38;5;241m=\u001B[39m kt\u001B[38;5;241m.\u001B[39mHyperband(\n\u001B[1;32m      5\u001B[0m     build_model,\n\u001B[1;32m      6\u001B[0m     objective\u001B[38;5;241m=\u001B[39m\u001B[38;5;124m'\u001B[39m\u001B[38;5;124mval_accuracy\u001B[39m\u001B[38;5;124m'\u001B[39m,\n\u001B[0;32m   (...)\u001B[0m\n\u001B[1;32m      9\u001B[0m     directory\u001B[38;5;241m=\u001B[39m\u001B[38;5;124m'\u001B[39m\u001B[38;5;124mproject\u001B[39m\u001B[38;5;124m'\u001B[39m,\n\u001B[1;32m     10\u001B[0m     project_name\u001B[38;5;241m=\u001B[39m\u001B[38;5;124m'\u001B[39m\u001B[38;5;124mAlphabetSoupCharity_Optimization\u001B[39m\u001B[38;5;124m'\u001B[39m)\n\u001B[1;32m     12\u001B[0m \u001B[38;5;66;03m# Run the hyperparameter search for best hyperparameters\u001B[39;00m\n\u001B[0;32m---> 13\u001B[0m \u001B[43mtuner\u001B[49m\u001B[38;5;241;43m.\u001B[39;49m\u001B[43msearch\u001B[49m\u001B[43m(\u001B[49m\u001B[43mX_train_scaled\u001B[49m\u001B[43m,\u001B[49m\u001B[43m \u001B[49m\u001B[43my_train\u001B[49m\u001B[43m,\u001B[49m\u001B[43m \u001B[49m\u001B[43mepochs\u001B[49m\u001B[38;5;241;43m=\u001B[39;49m\u001B[38;5;241;43m10\u001B[39;49m\u001B[43m,\u001B[49m\u001B[43m \u001B[49m\u001B[43mvalidation_split\u001B[49m\u001B[38;5;241;43m=\u001B[39;49m\u001B[38;5;241;43m0.2\u001B[39;49m\u001B[43m)\u001B[49m\n",
      "File \u001B[0;32m~/BootCamp_University/Deep_Learning/21-Deep-Learning/venv/lib/python3.9/site-packages/keras_tuner/engine/base_tuner.py:183\u001B[0m, in \u001B[0;36mBaseTuner.search\u001B[0;34m(self, *fit_args, **fit_kwargs)\u001B[0m\n\u001B[1;32m    180\u001B[0m     \u001B[38;5;28;01mcontinue\u001B[39;00m\n\u001B[1;32m    182\u001B[0m \u001B[38;5;28mself\u001B[39m\u001B[38;5;241m.\u001B[39mon_trial_begin(trial)\n\u001B[0;32m--> 183\u001B[0m results \u001B[38;5;241m=\u001B[39m \u001B[38;5;28;43mself\u001B[39;49m\u001B[38;5;241;43m.\u001B[39;49m\u001B[43mrun_trial\u001B[49m\u001B[43m(\u001B[49m\u001B[43mtrial\u001B[49m\u001B[43m,\u001B[49m\u001B[43m \u001B[49m\u001B[38;5;241;43m*\u001B[39;49m\u001B[43mfit_args\u001B[49m\u001B[43m,\u001B[49m\u001B[43m \u001B[49m\u001B[38;5;241;43m*\u001B[39;49m\u001B[38;5;241;43m*\u001B[39;49m\u001B[43mfit_kwargs\u001B[49m\u001B[43m)\u001B[49m\n\u001B[1;32m    184\u001B[0m \u001B[38;5;66;03m# `results` is None indicates user updated oracle in `run_trial()`.\u001B[39;00m\n\u001B[1;32m    185\u001B[0m \u001B[38;5;28;01mif\u001B[39;00m results \u001B[38;5;129;01mis\u001B[39;00m \u001B[38;5;28;01mNone\u001B[39;00m:\n",
      "File \u001B[0;32m~/BootCamp_University/Deep_Learning/21-Deep-Learning/venv/lib/python3.9/site-packages/keras_tuner/tuners/hyperband.py:384\u001B[0m, in \u001B[0;36mHyperband.run_trial\u001B[0;34m(self, trial, *fit_args, **fit_kwargs)\u001B[0m\n\u001B[1;32m    382\u001B[0m     fit_kwargs[\u001B[38;5;124m\"\u001B[39m\u001B[38;5;124mepochs\u001B[39m\u001B[38;5;124m\"\u001B[39m] \u001B[38;5;241m=\u001B[39m hp\u001B[38;5;241m.\u001B[39mvalues[\u001B[38;5;124m\"\u001B[39m\u001B[38;5;124mtuner/epochs\u001B[39m\u001B[38;5;124m\"\u001B[39m]\n\u001B[1;32m    383\u001B[0m     fit_kwargs[\u001B[38;5;124m\"\u001B[39m\u001B[38;5;124minitial_epoch\u001B[39m\u001B[38;5;124m\"\u001B[39m] \u001B[38;5;241m=\u001B[39m hp\u001B[38;5;241m.\u001B[39mvalues[\u001B[38;5;124m\"\u001B[39m\u001B[38;5;124mtuner/initial_epoch\u001B[39m\u001B[38;5;124m\"\u001B[39m]\n\u001B[0;32m--> 384\u001B[0m \u001B[38;5;28;01mreturn\u001B[39;00m \u001B[38;5;28;43msuper\u001B[39;49m\u001B[43m(\u001B[49m\u001B[43mHyperband\u001B[49m\u001B[43m,\u001B[49m\u001B[43m \u001B[49m\u001B[38;5;28;43mself\u001B[39;49m\u001B[43m)\u001B[49m\u001B[38;5;241;43m.\u001B[39;49m\u001B[43mrun_trial\u001B[49m\u001B[43m(\u001B[49m\u001B[43mtrial\u001B[49m\u001B[43m,\u001B[49m\u001B[43m \u001B[49m\u001B[38;5;241;43m*\u001B[39;49m\u001B[43mfit_args\u001B[49m\u001B[43m,\u001B[49m\u001B[43m \u001B[49m\u001B[38;5;241;43m*\u001B[39;49m\u001B[38;5;241;43m*\u001B[39;49m\u001B[43mfit_kwargs\u001B[49m\u001B[43m)\u001B[49m\n",
      "File \u001B[0;32m~/BootCamp_University/Deep_Learning/21-Deep-Learning/venv/lib/python3.9/site-packages/keras_tuner/engine/tuner.py:295\u001B[0m, in \u001B[0;36mTuner.run_trial\u001B[0;34m(self, trial, *args, **kwargs)\u001B[0m\n\u001B[1;32m    293\u001B[0m     callbacks\u001B[38;5;241m.\u001B[39mappend(model_checkpoint)\n\u001B[1;32m    294\u001B[0m     copied_kwargs[\u001B[38;5;124m\"\u001B[39m\u001B[38;5;124mcallbacks\u001B[39m\u001B[38;5;124m\"\u001B[39m] \u001B[38;5;241m=\u001B[39m callbacks\n\u001B[0;32m--> 295\u001B[0m     obj_value \u001B[38;5;241m=\u001B[39m \u001B[38;5;28;43mself\u001B[39;49m\u001B[38;5;241;43m.\u001B[39;49m\u001B[43m_build_and_fit_model\u001B[49m\u001B[43m(\u001B[49m\u001B[43mtrial\u001B[49m\u001B[43m,\u001B[49m\u001B[43m \u001B[49m\u001B[38;5;241;43m*\u001B[39;49m\u001B[43margs\u001B[49m\u001B[43m,\u001B[49m\u001B[43m \u001B[49m\u001B[38;5;241;43m*\u001B[39;49m\u001B[38;5;241;43m*\u001B[39;49m\u001B[43mcopied_kwargs\u001B[49m\u001B[43m)\u001B[49m\n\u001B[1;32m    297\u001B[0m     histories\u001B[38;5;241m.\u001B[39mappend(obj_value)\n\u001B[1;32m    298\u001B[0m \u001B[38;5;28;01mreturn\u001B[39;00m histories\n",
      "File \u001B[0;32m~/BootCamp_University/Deep_Learning/21-Deep-Learning/venv/lib/python3.9/site-packages/keras_tuner/engine/tuner.py:222\u001B[0m, in \u001B[0;36mTuner._build_and_fit_model\u001B[0;34m(self, trial, *args, **kwargs)\u001B[0m\n\u001B[1;32m    220\u001B[0m hp \u001B[38;5;241m=\u001B[39m trial\u001B[38;5;241m.\u001B[39mhyperparameters\n\u001B[1;32m    221\u001B[0m model \u001B[38;5;241m=\u001B[39m \u001B[38;5;28mself\u001B[39m\u001B[38;5;241m.\u001B[39m_try_build(hp)\n\u001B[0;32m--> 222\u001B[0m results \u001B[38;5;241m=\u001B[39m \u001B[38;5;28;43mself\u001B[39;49m\u001B[38;5;241;43m.\u001B[39;49m\u001B[43mhypermodel\u001B[49m\u001B[38;5;241;43m.\u001B[39;49m\u001B[43mfit\u001B[49m\u001B[43m(\u001B[49m\u001B[43mhp\u001B[49m\u001B[43m,\u001B[49m\u001B[43m \u001B[49m\u001B[43mmodel\u001B[49m\u001B[43m,\u001B[49m\u001B[43m \u001B[49m\u001B[38;5;241;43m*\u001B[39;49m\u001B[43margs\u001B[49m\u001B[43m,\u001B[49m\u001B[43m \u001B[49m\u001B[38;5;241;43m*\u001B[39;49m\u001B[38;5;241;43m*\u001B[39;49m\u001B[43mkwargs\u001B[49m\u001B[43m)\u001B[49m\n\u001B[1;32m    223\u001B[0m tuner_utils\u001B[38;5;241m.\u001B[39mvalidate_trial_results(\n\u001B[1;32m    224\u001B[0m     results, \u001B[38;5;28mself\u001B[39m\u001B[38;5;241m.\u001B[39moracle\u001B[38;5;241m.\u001B[39mobjective, \u001B[38;5;124m\"\u001B[39m\u001B[38;5;124mHyperModel.fit()\u001B[39m\u001B[38;5;124m\"\u001B[39m\n\u001B[1;32m    225\u001B[0m )\n\u001B[1;32m    226\u001B[0m \u001B[38;5;28;01mreturn\u001B[39;00m results\n",
      "File \u001B[0;32m~/BootCamp_University/Deep_Learning/21-Deep-Learning/venv/lib/python3.9/site-packages/keras_tuner/engine/hypermodel.py:140\u001B[0m, in \u001B[0;36mHyperModel.fit\u001B[0;34m(self, hp, model, *args, **kwargs)\u001B[0m\n\u001B[1;32m    116\u001B[0m \u001B[38;5;28;01mdef\u001B[39;00m \u001B[38;5;21mfit\u001B[39m(\u001B[38;5;28mself\u001B[39m, hp, model, \u001B[38;5;241m*\u001B[39margs, \u001B[38;5;241m*\u001B[39m\u001B[38;5;241m*\u001B[39mkwargs):\n\u001B[1;32m    117\u001B[0m \u001B[38;5;250m    \u001B[39m\u001B[38;5;124;03m\"\"\"Train the model.\u001B[39;00m\n\u001B[1;32m    118\u001B[0m \n\u001B[1;32m    119\u001B[0m \u001B[38;5;124;03m    Args:\u001B[39;00m\n\u001B[0;32m   (...)\u001B[0m\n\u001B[1;32m    138\u001B[0m \u001B[38;5;124;03m        If return a float, it should be the `objective` value.\u001B[39;00m\n\u001B[1;32m    139\u001B[0m \u001B[38;5;124;03m    \"\"\"\u001B[39;00m\n\u001B[0;32m--> 140\u001B[0m     \u001B[38;5;28;01mreturn\u001B[39;00m \u001B[43mmodel\u001B[49m\u001B[38;5;241;43m.\u001B[39;49m\u001B[43mfit\u001B[49m\u001B[43m(\u001B[49m\u001B[38;5;241;43m*\u001B[39;49m\u001B[43margs\u001B[49m\u001B[43m,\u001B[49m\u001B[43m \u001B[49m\u001B[38;5;241;43m*\u001B[39;49m\u001B[38;5;241;43m*\u001B[39;49m\u001B[43mkwargs\u001B[49m\u001B[43m)\u001B[49m\n",
      "File \u001B[0;32m~/BootCamp_University/Deep_Learning/21-Deep-Learning/venv/lib/python3.9/site-packages/keras/utils/traceback_utils.py:70\u001B[0m, in \u001B[0;36mfilter_traceback.<locals>.error_handler\u001B[0;34m(*args, **kwargs)\u001B[0m\n\u001B[1;32m     67\u001B[0m     filtered_tb \u001B[38;5;241m=\u001B[39m _process_traceback_frames(e\u001B[38;5;241m.\u001B[39m__traceback__)\n\u001B[1;32m     68\u001B[0m     \u001B[38;5;66;03m# To get the full stack trace, call:\u001B[39;00m\n\u001B[1;32m     69\u001B[0m     \u001B[38;5;66;03m# `tf.debugging.disable_traceback_filtering()`\u001B[39;00m\n\u001B[0;32m---> 70\u001B[0m     \u001B[38;5;28;01mraise\u001B[39;00m e\u001B[38;5;241m.\u001B[39mwith_traceback(filtered_tb) \u001B[38;5;28;01mfrom\u001B[39;00m \u001B[38;5;28mNone\u001B[39m\n\u001B[1;32m     71\u001B[0m \u001B[38;5;28;01mfinally\u001B[39;00m:\n\u001B[1;32m     72\u001B[0m     \u001B[38;5;28;01mdel\u001B[39;00m filtered_tb\n",
      "File \u001B[0;32m/var/folders/t0/trftcgf923z_mljxn6xk43hw0000gn/T/__autograph_generated_file5qgmwrul.py:15\u001B[0m, in \u001B[0;36mouter_factory.<locals>.inner_factory.<locals>.tf__train_function\u001B[0;34m(iterator)\u001B[0m\n\u001B[1;32m     13\u001B[0m \u001B[38;5;28;01mtry\u001B[39;00m:\n\u001B[1;32m     14\u001B[0m     do_return \u001B[38;5;241m=\u001B[39m \u001B[38;5;28;01mTrue\u001B[39;00m\n\u001B[0;32m---> 15\u001B[0m     retval_ \u001B[38;5;241m=\u001B[39m ag__\u001B[38;5;241m.\u001B[39mconverted_call(ag__\u001B[38;5;241m.\u001B[39mld(step_function), (ag__\u001B[38;5;241m.\u001B[39mld(\u001B[38;5;28mself\u001B[39m), ag__\u001B[38;5;241m.\u001B[39mld(iterator)), \u001B[38;5;28;01mNone\u001B[39;00m, fscope)\n\u001B[1;32m     16\u001B[0m \u001B[38;5;28;01mexcept\u001B[39;00m:\n\u001B[1;32m     17\u001B[0m     do_return \u001B[38;5;241m=\u001B[39m \u001B[38;5;28;01mFalse\u001B[39;00m\n",
      "\u001B[0;31mValueError\u001B[0m: in user code:\n\n    File \"/Users/siyuanliang/BootCamp_University/Deep_Learning/21-Deep-Learning/venv/lib/python3.9/site-packages/keras/engine/training.py\", line 1249, in train_function  *\n        return step_function(self, iterator)\n    File \"/Users/siyuanliang/BootCamp_University/Deep_Learning/21-Deep-Learning/venv/lib/python3.9/site-packages/keras/engine/training.py\", line 1233, in step_function  **\n        outputs = model.distribute_strategy.run(run_step, args=(data,))\n    File \"/Users/siyuanliang/BootCamp_University/Deep_Learning/21-Deep-Learning/venv/lib/python3.9/site-packages/keras/engine/training.py\", line 1222, in run_step  **\n        outputs = model.train_step(data)\n    File \"/Users/siyuanliang/BootCamp_University/Deep_Learning/21-Deep-Learning/venv/lib/python3.9/site-packages/keras/engine/training.py\", line 1023, in train_step\n        y_pred = self(x, training=True)\n    File \"/Users/siyuanliang/BootCamp_University/Deep_Learning/21-Deep-Learning/venv/lib/python3.9/site-packages/keras/utils/traceback_utils.py\", line 70, in error_handler\n        raise e.with_traceback(filtered_tb) from None\n    File \"/Users/siyuanliang/BootCamp_University/Deep_Learning/21-Deep-Learning/venv/lib/python3.9/site-packages/keras/engine/input_spec.py\", line 295, in assert_input_compatibility\n        raise ValueError(\n\n    ValueError: Input 0 of layer \"sequential\" is incompatible with the layer: expected shape=(None, 43), found shape=(None, 40)\n"
     ]
    }
   ],
   "source": [
    "# import the kerastuner library\n",
    "import keras_tuner as kt\n",
    "\n",
    "tuner = kt.Hyperband(\n",
    "    build_model,\n",
    "    objective='val_accuracy',\n",
    "    max_epochs=10,\n",
    "    factor=3,\n",
    "    directory='project',\n",
    "    project_name='AlphabetSoupCharity_Optimization')\n",
    "\n",
    "# Run the hyperparameter search for best hyperparameters\n",
    "tuner.search(X_train_scaled, y_train, epochs=10, validation_split=0.2)"
   ],
   "metadata": {
    "collapsed": false
   }
  },
  {
   "cell_type": "code",
   "execution_count": 70,
   "outputs": [
    {
     "ename": "IndexError",
     "evalue": "list index out of range",
     "output_type": "error",
     "traceback": [
      "\u001B[0;31m---------------------------------------------------------------------------\u001B[0m",
      "\u001B[0;31mIndexError\u001B[0m                                Traceback (most recent call last)",
      "Cell \u001B[0;32mIn[70], line 2\u001B[0m\n\u001B[1;32m      1\u001B[0m \u001B[38;5;66;03m# Get the optimal hyperparameters\u001B[39;00m\n\u001B[0;32m----> 2\u001B[0m best_hps\u001B[38;5;241m=\u001B[39m\u001B[43mtuner\u001B[49m\u001B[38;5;241;43m.\u001B[39;49m\u001B[43mget_best_hyperparameters\u001B[49m\u001B[43m(\u001B[49m\u001B[43mnum_trials\u001B[49m\u001B[38;5;241;43m=\u001B[39;49m\u001B[38;5;241;43m1\u001B[39;49m\u001B[43m)\u001B[49m\u001B[43m[\u001B[49m\u001B[38;5;241;43m0\u001B[39;49m\u001B[43m]\u001B[49m\n\u001B[1;32m      3\u001B[0m best_hps\u001B[38;5;241m.\u001B[39mvalues\n",
      "\u001B[0;31mIndexError\u001B[0m: list index out of range"
     ]
    }
   ],
   "source": [
    "# Get the optimal hyperparameters\n",
    "best_hps=tuner.get_best_hyperparameters(num_trials=1)[0]\n",
    "best_hps.values"
   ],
   "metadata": {
    "collapsed": false
   }
  },
  {
   "cell_type": "code",
   "execution_count": 71,
   "metadata": {},
   "outputs": [
    {
     "ename": "AttributeError",
     "evalue": "'Hyperband' object has no attribute 'get_best_model'",
     "output_type": "error",
     "traceback": [
      "\u001B[0;31m---------------------------------------------------------------------------\u001B[0m",
      "\u001B[0;31mAttributeError\u001B[0m                            Traceback (most recent call last)",
      "Cell \u001B[0;32mIn[71], line 2\u001B[0m\n\u001B[1;32m      1\u001B[0m \u001B[38;5;66;03m# Evaluate the model against full test data\u001B[39;00m\n\u001B[0;32m----> 2\u001B[0m best_model \u001B[38;5;241m=\u001B[39m \u001B[43mtuner\u001B[49m\u001B[38;5;241;43m.\u001B[39;49m\u001B[43mget_best_model\u001B[49m(\u001B[38;5;241m1\u001B[39m)[\u001B[38;5;241m0\u001B[39m]\n\u001B[1;32m      3\u001B[0m loss, accuracy \u001B[38;5;241m=\u001B[39m best_model\u001B[38;5;241m.\u001B[39mevaluate(X_test_scaled, y_test)\n\u001B[1;32m      4\u001B[0m \u001B[38;5;28mprint\u001B[39m(\u001B[38;5;124mf\u001B[39m\u001B[38;5;124m\"\u001B[39m\u001B[38;5;124mLoss: \u001B[39m\u001B[38;5;132;01m{\u001B[39;00mloss\u001B[38;5;132;01m}\u001B[39;00m\u001B[38;5;124m, Accuracy: \u001B[39m\u001B[38;5;132;01m{\u001B[39;00maccuracy\u001B[38;5;132;01m}\u001B[39;00m\u001B[38;5;124m\"\u001B[39m)\n",
      "\u001B[0;31mAttributeError\u001B[0m: 'Hyperband' object has no attribute 'get_best_model'"
     ]
    }
   ],
   "source": [
    "# Evaluate the model against full test data\n",
    "best_model = tuner.get_best_model(1)[0]\n",
    "loss, accuracy = best_model.evaluate(X_test_scaled, y_test)\n",
    "print(f\"Loss: {loss}, Accuracy: {accuracy}\")"
   ]
  },
  {
   "cell_type": "code",
   "execution_count": null,
   "outputs": [],
   "source": [
    "# Export our model to HDF5 file\n",
    "best_model.save(\"AlphabetSoupCharity_Optimization_Auto.h5\")"
   ],
   "metadata": {
    "collapsed": false
   }
  },
  {
   "cell_type": "markdown",
   "source": [
    "## Best Model"
   ],
   "metadata": {
    "collapsed": false
   }
  }
 ],
 "metadata": {
  "kernelspec": {
   "display_name": "Python 3 (ipykernel)",
   "language": "python",
   "name": "python3"
  },
  "language_info": {
   "codemirror_mode": {
    "name": "ipython",
    "version": 3
   },
   "file_extension": ".py",
   "mimetype": "text/x-python",
   "name": "python",
   "nbconvert_exporter": "python",
   "pygments_lexer": "ipython3",
   "version": "3.9.6"
  }
 },
 "nbformat": 4,
 "nbformat_minor": 1
}
